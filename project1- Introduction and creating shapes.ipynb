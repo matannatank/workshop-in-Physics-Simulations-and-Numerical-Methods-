{
 "cells": [
  {
   "cell_type": "raw",
   "metadata": {},
   "source": [
    "\\newcommand{\\spn}[1]{{\\bf spn}\\{#1\\}}\n",
    "\\newcommand{\\range}[1]{{\\bf range}(#1)}\n",
    "\\newcommand{\\rank}[1]{{\\bf rank}(#1)}\n",
    "\\newcommand{\\trace}[1]{{\\bf trace}(#1)}\n",
    "\\newcommand{\\Null}[1]{{\\bf null}(#1)}"
   ]
  },
  {
   "cell_type": "markdown",
   "metadata": {},
   "source": [
    "Adapted from *Physics Simulations in Python -- A Lab Manual*, by Daniel V. Schroeder, Department of Physics, Weber State University, http://physics.weber.edu/schroeder/scicomp/\n",
    "\n",
    "This work is licensed under the Creative Commons Attribution 4.0 International License.  To view a copy of this license, visit http://creativecommons.org/licenses/by/4.0/ or send a letter to Creative Commons, PO Box 1866, Mountain View, CA 94042, USA."
   ]
  },
  {
   "cell_type": "markdown",
   "metadata": {},
   "source": [
    "# Preface\n",
    "\n",
    "The goal of this course is to give students hands-on experience with writing numerical codes, using the Python programming language. The goals of the course are as follows:\n",
    "- Learn how to use the VPython and matplotlib graphics packages within  Python in order to do numerical calculations with graphical output;\n",
    "- Learn some step-by-step procedures for doing  mathematical calculations (such as solving differential equations) on a computer;\n",
    "- Gain understanding of how to validate and evaluate numerical codes, and in particular, how to verify correctness of numerical codes;\n",
    "- Gain good programming practices;\n",
    "- Have fun with numerical mathematics!"
   ]
  },
  {
   "cell_type": "markdown",
   "metadata": {},
   "source": [
    "## Prerequisites\n",
    "\n",
    "The course focus on writing algorithm for physical simulations. As such, it requires some very basic knowledge of physics, and specifically, Newton's laws of motion, and conservation principles. While previous knowledge of these topics is helpful, they will be covered  during the course. The course does assume good knowledge of calculus, and some knowledge of programming in Python. "
   ]
  },
  {
   "cell_type": "markdown",
   "metadata": {},
   "source": [
    "## Required materials\n",
    "\n",
    "Naturally, you'll need a computer. The first project will cover installation of Python, Jupyter and the required Python libraries. "
   ]
  },
  {
   "cell_type": "markdown",
   "metadata": {},
   "source": [
    "## How to use instruction PDFs\n",
    "\n",
    "Throughout the semster we will distribution six seperate PDFs, which correspond to six main chapters of one manual. Each chapter corresponds to a seperate project.  In each project you will write a computer\n",
    "program or (more often) a small number of closely related computer programs. Rather than giving you complete programs to run, the project instructions will provide only code fragments and general guidelines on how to write your programs.\n",
    "This way, once you have completed each program, it will be yours.\n",
    "\n",
    "Exercises and questions will be sprinkled among the instructions in this manual. Please make every effort work each exercise and answer each question immediately, before you read on.\n",
    "\n",
    "The chapter source files are *Jupyter notebooks* (we'll explain what that means shortly). Along with each chapter, we will distribute the correponding notebook. In each notebook, we left dedicated cells for you to enter your answers. Markdown cells for textual answers, and code cells for computer programs. You are supposed to run a Jupyter server on your computer (we'll explain how shortly), open the corresponding notebook, and enter your answers in the various cells. Submit the filled notebook files as your completed assignments for grading. "
   ]
  },
  {
   "cell_type": "markdown",
   "metadata": {},
   "source": [
    "##  Why Python, VPython and Jupyter?\n",
    "\n",
    "Choosing a computer programming language always involves trade-offs.  Fortunately, there are more choices today than ever before.\n",
    "\n",
    "An obvious choice for this course would be one of the traditional computer\n",
    "languages like Fortran, C, or C++.  These languages are widely used for\n",
    "scientific computation due to their flexibility and speed.  The languages\n",
    "are defined by standards committees rather than by commercial vendors,\n",
    "and free versions are available.  However, they\n",
    "have grown somewhat complex over the years, as features have been\n",
    "added while maintaining compatibility with older versions.  Another\n",
    "disadvantage is that none of these languages include built-in support for graphics,\n",
    "and add-on graphics libraries tend to be difficult to install and use.\n",
    "\n",
    "\n",
    "Python is a relatively new, free, cross-platform language that scientists are using more and more widely.  It is a simple language to get started with, and developers are creating a growing assortment of add-on packages to make various difficult tasks fairly easy.  These add-on packages include several for numerical calculations and scientific graphics.  One big disadvantage of Python is that every Python installation is a little different, depending on which Python version and add-on packages are present.  Getting someone else's Python program to run on your Python system can therefore be a frustrating task.  Another disadvantage is that most Python interpreters do not produce very efficient machine code, so Python programs tend to run rather slowly---necessitating the use of add-on packages for heavy-duty computation.  Finally, a disadvantage for this course is that none of the graphics packages included in the more common Python installations are especially convenient for creating animated graphics or interactive user controls.\n",
    "\n",
    "The VPython (short for Visual Python) package is an attempt to address this last deficiency.  It provides a very easy interface to a 3D graphics library, along with some auxiliary functions for handling vectors and animation.  It was created specifically for use in undergraduate physics courses, and it is being maintained and improved by Bruce Sherwood, a physics teacher and textbook author.\n",
    "\n",
    "Jupyter Notebook  is a web-based interactive computational environment for creating notebook documents. A notebook document is a document consisting of both text, and code (usually Python code, but it is possible to use Jupyter with other languages as well). A document is split into cells. Code cells contain code, and the result of evaluating the code appears below the cell. Markdown cells contain text, which is written in \"markdown\", i.e. a lightweight language for creating formatted text. Google \"jupyter markdown\" to find nice tutorials on Jupyter's markdown. A nice feature of Jupyter's markdown is it's ability to format math, for example:\n",
    "$$\n",
    "\\int^b_a f(x) dx\n",
    "$$\n",
    "Double click on the cell within Jupyter to see the source!"
   ]
  },
  {
   "cell_type": "markdown",
   "metadata": {},
   "source": [
    "## References\n",
    "\n",
    "Although the project instructions in this manual are fairly self-contained, you may wish to consult\n",
    "the following references for more information on the Python language, the GlowScript-VPython environment, numerical computation, and physics simulations.\n",
    "\n",
    "- VPython online documentation, available via http://www.glowscript.org/docs/VPythonDocs/index.html.  Although we won't use every feature described, much of this reference material will be essential reading.  Fortunately, it's concise and well written.\n",
    "\n",
    "- *Python for Non-Programmers* is a web page with numerous links to Python tutorials and other resources for beginners: https://wiki.python.org/moin/BeginnersGuide/NonProgrammers.  \n",
    "\n",
    "- *University Physics Volumes 1 and 2 (OpenStax, 2016)*,  https://openstax.org/details/books/university-physics-volume-1 and https://openstax.org/details/books/university-physics-volume-2.  If you need to refresh your memory of the definitions and principles from your introductory physics course, the free OpenStax textbooks are convenient references (although any other textbook from such a course will also do).  Volume 1 covers topics in mechanics, while Volume 2 includes thermodynamics.\n",
    "\n",
    "- An online introductory physics course is available at https://ocw.mit.edu/courses/physics/8-01sc-classical-mechanics-fall-2016/index.htm. It only assumes knowledge of basic calculus, and consists of clips that are only a few minutes long.\n",
    "\n",
    "- William H. Press et al., *Numerical Recipes*, third edition (Cambridge University Press, 2007), http://numerical.recipes/.  By far the most widely used reference on numerical algorithms, aimed at professional researchers and graduate students. Well written but quite advanced.  Code implementations are in C++, although earlier editions are also available in C and Fortran versions.  You probably won't get any use out of this book during this course, but if you go on in computational science you'll eventually need a copy (or an electronic subscription).\n",
    "\n",
    "- If you want your Python to conform Python's sytle conventions, you can consult https://www.python.org/dev/peps/pep-0008/. Note, however, that most Python IDE will do some style checking for you."
   ]
  },
  {
   "cell_type": "markdown",
   "metadata": {},
   "source": [
    "## Installing dependencies\n",
    "\n",
    "We assume you are using Windows and have good competence in installing software. If you are using some other operating system, or the instructions here are too terse for you, please contact us and we will help you.\n",
    "\n",
    "The easiest way to install all the dependencies is using the Anaconda distribution of Python. Go to https://www.anaconda.com/products/individual and download the Python 3.8 Windows 64-bit Graphical Installer. Install Anaconda using the installer. Next, we need to install VPython. Run the \"Anaconda Navigator\" from the start menu. In the left side select \"Environments\". On the right side, in the combobox select \"All\" instead of \"Installed\". Then on the right side, in the search box labeled \"Search Packages\" (not \"Search Environments\") type \"vpython\". Only one package should be found. If it is not already installed (indicated with a green v-shape), click the checkbox and then press the \"Apply\" button on the bottom right. Wait for the installation to complete. \n",
    "\n",
    "We also need to install two *Jupyter extensions*. The first is a an extension which will spell check continuously. Every word that is misspelled while editing will be marked red. The second extension will number equations. This will only be used starting from the second project, but let's finish all the installations right now. To install these dependencies, we need to use a command line. On Linux or MacOS, just open the terminal. On Windows, you can launch \"Powershell Prompt\" from the Anaconda Navigator. Now, run the following set of commands:\n",
    "```\n",
    "    conda install -c conda-forge jupyter_contrib_nbextensions \n",
    "    jupyter contrib nbextension install --user\n",
    "    jupyter nbextension enable equation-numbering/main\n",
    "    jupyter nbextension enable spellchecker/main\n",
    "```\n",
    "You now have everything needed installed.\n",
    "\n",
    "To actually work on this worksheet you need to run Jupyter server. The easiest way to do so is via the Anaconda Navigator. If it is not open - open it. On the left, make sure that \"Home\" is selected. Then on the right, click \"Launch\" in the \"Jupyter Notebook\" box. A browser should open with a directory tree. "
   ]
  },
  {
   "cell_type": "markdown",
   "metadata": {},
   "source": [
    "# Project 1 - Making Shapes - A Quick Tutorial on VPython\n",
    "\n",
    "The first goal in learning any new computer programming environment is always the same:  Write and run a program to print (or display) a brief message, traditionally ``Hello, world!``\n",
    "\n",
    "Why bother with such a boring program?  Because the steps required to write and run even the most trivial program can be quite intricate.  For some programming environments you may need to install software, configure the software to work with your computer's directory system, and then learn to use various software tools for editing, compiling, linking, and launching your program.  Then you need to learn enough about the programming language, and about the associated software libraries for producing the type of output you want, in order to type in the code needed to produce that output.  The number of things that can go wrong during this whole process is enormous.\n",
    "\n",
    "Luckily, once Anaconda has been installed, running code in Jupyter notebook is super easy. Let's do it just to get familiarity with our notebook environment. First, download the notebook file associated with this PDF. This is the file with the .ipynb extension. Put it in an easy to find folder. Now, run Jupyter from the Anaconda Navigator (or any other way). A tree should open in the browser. Navigate to the folder where you kept the notebook file, and click the notebook file to open it. Now click on the cell below (the one with ```# Your code here!```), delete the comment and write ```print(\"Hello, Python-Jupyter!\")```. Now press Ctrl-Enter (press and hold the Ctrl key, and then press Enter). You should see ```Hello, Python-Jupyter``` right below the code cell."
   ]
  },
  {
   "cell_type": "code",
   "execution_count": 23,
   "metadata": {},
   "outputs": [
    {
     "name": "stdout",
     "output_type": "stream",
     "text": [
      "Hello, Python-Jupyter!\n"
     ]
    }
   ],
   "source": [
    "print(\"Hello, Python-Jupyter!\")"
   ]
  },
  {
   "cell_type": "markdown",
   "metadata": {},
   "source": [
    "Now let's look at your one-line program in a bit of detail. We say that that line, which you typed, \"calls the *print* function and passes it a string of text characters.\"  Please notice two aspects of Python syntax:\n",
    "- The *string* of text is enclosed in double-quote marks. Single-quote marks would also have worked, as long as the beginning and ending quotes match.\n",
    "- The information *passed* to the function (its *parameter*) is enclosed in parentheses.  In this case there is a single parameter (a string), but we'll soon see examples of functions that take multiple parameters, separated by commas.  "
   ]
  },
  {
   "cell_type": "markdown",
   "metadata": {},
   "source": [
    "The idea of a *function* is to hide the details of what's happening from your code (or at least from this portion of it), so all you need to know is the function name, what parameter(s) to pass, and what the function does---but not how it works.  The *print* function has to do an awful lot to make those words appear on your screen, but you needn't know the details."
   ]
  },
  {
   "cell_type": "markdown",
   "metadata": {},
   "source": [
    "## Your first shape\n",
    "\n",
    "We are now going to use VPython to create a small box. But first, let's include a code cell with some boilerplate code. **Click on the cell and press Ctrl-Enter to run it. This is required for future cells to work!**"
   ]
  },
  {
   "cell_type": "code",
   "execution_count": 1,
   "metadata": {},
   "outputs": [
    {
     "data": {
      "text/html": [
       "<div id=\"glowscript\" class=\"glowscript\"></div>"
      ],
      "text/plain": [
       "<IPython.core.display.HTML object>"
      ]
     },
     "metadata": {},
     "output_type": "display_data"
    },
    {
     "data": {
      "application/javascript": [
       "if (typeof Jupyter !== \"undefined\") { window.__context = { glowscript_container: $(\"#glowscript\").removeAttr(\"id\")};}else{ element.textContent = ' ';}"
      ],
      "text/plain": [
       "<IPython.core.display.Javascript object>"
      ]
     },
     "metadata": {},
     "output_type": "display_data"
    },
    {
     "data": {
      "text/html": [
       "<div id=\"glowscript\" class=\"glowscript\"></div>"
      ],
      "text/plain": [
       "<IPython.core.display.HTML object>"
      ]
     },
     "metadata": {},
     "output_type": "display_data"
    },
    {
     "data": {
      "application/javascript": [
       "if (typeof Jupyter !== \"undefined\") { window.__context = { glowscript_container: $(\"#glowscript\").removeAttr(\"id\")};}else{ element.textContent = ' ';}"
      ],
      "text/plain": [
       "<IPython.core.display.Javascript object>"
      ]
     },
     "metadata": {},
     "output_type": "display_data"
    }
   ],
   "source": [
    "# Boilerplate cell\n",
    "from vpython import *\n",
    "scene = canvas()"
   ]
  },
  {
   "cell_type": "markdown",
   "metadata": {},
   "source": [
    "Let's understand what is going on there. The first line (```from vpython import *```) makes all the functionality of vpython available to future cells. The second line (```scene = canvas()```) creates a box (you don't see it yet) where all future (i.e. next cells) visual output will be emitted to. As we progress, we might want to create a new scene box to which visual output should be sent. In that case, we will simply write ```scene = canvas()``` in a new cell and run it. All visual output emitted by cells that are run afterwards will be sent to the new scene box.  "
   ]
  },
  {
   "cell_type": "markdown",
   "metadata": {},
   "source": [
    "Now let's create a box in the scene. In the cell below, write ```box()``` and run it (you know the drill: Ctrl-Enter). It might now work the first time. In that case, select from the menu Kernel->Restart, and run the boilerplate cell and the cell in the bottom again. "
   ]
  },
  {
   "cell_type": "code",
   "execution_count": 3,
   "metadata": {},
   "outputs": [],
   "source": [
    "box()"
   ]
  },
  {
   "cell_type": "markdown",
   "metadata": {},
   "source": [
    "If everything works, just below the boilerplate cell you should see a see a black rectangular area (called a *canvas*) containing a light gray square (the box). Here is what is going on. You're calling a function called *box*, and passing it no parameters at all (but notice that the parentheses are still required). That function tells Python to draw a box in the current canvas.  \n",
    "\n",
    "The box that you see lives in an imaginary *three*-dimensional space, but you're viewing it from one side, at relatively close range.  To change the perspective, you can do three things:\n",
    "- **Rotate:** Press the right mouse button and drag one way or another, or, if you don't have a right mouse button, press the Ctrl key and drag using your mouse or trackpad.\n",
    "- **Zoom:** Use the scroll wheel on your mouse, or, if there isn't one, press the Alt or Option key and drag using your mouse or trackpad.  (On some trackpads you can also drag using two fingers.)\n",
    "- **Pan:** Hold down the *Shift* key while you drag using the mouse or trackpad.\n",
    "\n",
    "I hope you're impressed by how hard that little *box* function is working!\n",
    "\n",
    "You can change the attributes of your box by passing some parameters to the *box* function.  Try the following in the cell below: ```box(pos=vector(1,0,0), size=vector(.5,.3,.2), color=color.red)```."
   ]
  },
  {
   "cell_type": "code",
   "execution_count": 42,
   "metadata": {},
   "outputs": [],
   "source": [
    "box(pos=vector(1,0,0), size=vector(.5,.3,.2), color=color.red)"
   ]
  },
  {
   "cell_type": "markdown",
   "metadata": {},
   "source": [
    "Here you're providing three parameters, separated by commas, and you're identifying them by their names (a neat feature of Python), which means you can provide them in any order.  The **pos** parameter specifies the position of the center of the box; the **size** parameter specifies its dimensions; and the **color** parameter is self-explanatory.  In the first two cases, the parameter values are three-dimensional vectors, which you create using the *vector* function.  This function in turn takes three parameters, **x**, **y**, and **z**, which you needn't name as long as you provide them in that order.  Initially (before you rotate the scene), the $x$ direction points to the right; the $y$ direction points up; and the $z$ direction points directly outward, toward you (or toward the \"camera\").\n",
    "\n",
    "To learn more aboiut colors, first click the following script: https://glowscript.org/docs/VPythonDocs/index.html.  Then, from the second drop-down menu in the left sidebar, choose \"Color/Opacity\".  There you'll find a list of pre-defined colors, and also see how you can use the *vector* function to create arbitrary colors.\n",
    "\n",
    "**Excercise.** Although VPython includes a predefined **color.purple**, it isn't very vivid.  Figure out how to make your box a brighter (more saturated) shade of purple. In the cell below, write code that creates a box with that brighter shade of purple. Before running the cell, re-run the boilerplate cell to create a new empty scene."
   ]
  },
  {
   "cell_type": "code",
   "execution_count": 7,
   "metadata": {},
   "outputs": [],
   "source": [
    "# define brighter purprle\n",
    "bright_purple = vector(1, 0, 1) # RGB\n",
    "\n",
    "# create a purple box\n",
    "box(pos=vector(1, 0, 0), size=vector(0.5, 0.3, 0.2), color=bright_purple)"
   ]
  },
  {
   "cell_type": "markdown",
   "metadata": {},
   "source": [
    "**Exercise.** Create at least two more boxes, so you'll have a total of at least three, each with different positions, sizes, and colors.  Keep their positions within the range $-5$ to $5$ in each dimension, and keep their sizes small enough to leave plenty of room for more shapes within that range."
   ]
  },
  {
   "cell_type": "code",
   "execution_count": 11,
   "metadata": {},
   "outputs": [],
   "source": [
    "# Box2 - green \n",
    "box(pos=vector(-2, 1, 1), size=vector(0.4, 0.4, 0.4), color=color.green)\n",
    "\n",
    "# Box3 - blue\n",
    "box(pos=vector(3, -1, -1), size=vector(0.3, 0.3, 0.3), color=color.blue)"
   ]
  },
  {
   "cell_type": "markdown",
   "metadata": {},
   "source": [
    "## More shapes\n",
    "\n",
    "VPython provides functions for creating quite a variety of shapes, but in this course you'll need just two others: spheres and cylinders.  In the cell below, create a new scene (```scene = canvas()```) and use ```sphere(radius=0.25)``` to create a sphere:"
   ]
  },
  {
   "cell_type": "code",
   "execution_count": 13,
   "metadata": {},
   "outputs": [
    {
     "data": {
      "text/html": [
       "<div id=\"glowscript\" class=\"glowscript\"></div>"
      ],
      "text/plain": [
       "<IPython.core.display.HTML object>"
      ]
     },
     "metadata": {},
     "output_type": "display_data"
    },
    {
     "data": {
      "application/javascript": [
       "if (typeof Jupyter !== \"undefined\") { window.__context = { glowscript_container: $(\"#glowscript\").removeAttr(\"id\")};}else{ element.textContent = ' ';}"
      ],
      "text/plain": [
       "<IPython.core.display.Javascript object>"
      ]
     },
     "metadata": {},
     "output_type": "display_data"
    }
   ],
   "source": [
    "scene = canvas()\n",
    "sphere(pos=vector(2,1,0), radius=0.25, color=color.white)"
   ]
  },
  {
   "cell_type": "markdown",
   "metadata": {},
   "source": [
    "The *sphere* function can also accept the **pos** and **color** parameters, so use those now to change the defaults according to your taste.  Don't forget to separate the parameters by commas!\n",
    "\n",
    "**Question.** What happens if you omit the **radius** parameter when you call the *sphere* function?"
   ]
  },
  {
   "cell_type": "markdown",
   "metadata": {},
   "source": [
    "**Answer.** the sphere will be created with a default radius of 1 unit."
   ]
  },
  {
   "cell_type": "markdown",
   "metadata": {},
   "source": [
    "**Exercise.** Create a second sphere, again within the range $-5$ to 5 in each dimension, with a (reasonably small) radius and color of your choosing."
   ]
  },
  {
   "cell_type": "code",
   "execution_count": 15,
   "metadata": {},
   "outputs": [],
   "source": [
    "sphere(pos=vector(-1,-1,0), radius=0.2, color=color.red)"
   ]
  },
  {
   "cell_type": "markdown",
   "metadata": {},
   "source": [
    "Now try ```cylinder(axis=vector(0,1.5,0))``` to create a cylinder."
   ]
  },
  {
   "cell_type": "code",
   "execution_count": 17,
   "metadata": {},
   "outputs": [],
   "source": [
    "cylinder(pos=vector(-1, -1, -1), axis=vector(0, 1.5, 0),radius=0.2,color=color.green)"
   ]
  },
  {
   "cell_type": "markdown",
   "metadata": {},
   "source": [
    "The **axis** parameter is a displacement vector that takes you from one end of the cylinder to the other.  You can also provide the **pos**, **radius**, and **color** parameters, so please put in all three at this time, to change the defaults to suit your taste.\n",
    "\n",
    "If you check carefully, you'll discover that the **pos** of a cylinder is located at one of its ends, rather than in its center as for a sphere or a box.\n",
    "\n",
    "**Exercise.** It would be helpful if your 3D space had some coordinate axes, right?  So create some now, in the form of very skinny cylinders running from $-5$ to 5 in each of the three dimensions.  Color them light gray."
   ]
  },
  {
   "cell_type": "code",
   "execution_count": 25,
   "metadata": {},
   "outputs": [],
   "source": [
    "# Define axis length\n",
    "axis_length = 5\n",
    "\n",
    "# Create x axis \n",
    "cylinder(pos=vector(-axis_length, 0, 0), axis=vector(2*axis_length, 0, 0), radius=0.05, color=color.gray(0.8))\n",
    "\n",
    "# Create y axis\n",
    "cylinder(pos=vector(0, -axis_length, 0), axis=vector(0, 2*axis_length, 0), radius=0.05, color=color.gray(0.8))\n",
    "\n",
    "# Create z axis \n",
    "cylinder(pos=vector(0, 0, -axis_length), axis=vector(0, 0, 2*axis_length), radius=0.05, color=color.gray(0.8))"
   ]
  },
  {
   "cell_type": "markdown",
   "metadata": {},
   "source": [
    "## Variables and arithmetic\n",
    "\n",
    "\n",
    "The various shape attributes that you've been setting---**pos**, **radius**, **color**, and so on---are examples of what we call *variables*.  A variable, in computer programming, is a named location in the computer's memory in which some  information can be stored.  The equals sign tells the computer to store the information on its right in the variable whose name is on its left.\n",
    "\n",
    "Besides these pre-named variables, you can create your own.  The next exercise demonstrates this.\n",
    "\n",
    "**Exercise.** To keep track of your shapes, you can give them variable names.  Name your $x$ axis by inserting \"xaxis = \" at the beginning of the line, like this: ```xaxis = cylinder( . . . )```. You can then access the attributes of your variables using, for example: ```radius=xaxis.radius, color=xaxis.color```.\n",
    "\n",
    "Re-write below the code from the last exercise so it gives names to all the cylinders that form the coordinate axes. You might want to create a new canvas to display it."
   ]
  },
  {
   "cell_type": "code",
   "execution_count": 29,
   "metadata": {},
   "outputs": [
    {
     "data": {
      "text/html": [
       "<div id=\"glowscript\" class=\"glowscript\"></div>"
      ],
      "text/plain": [
       "<IPython.core.display.HTML object>"
      ]
     },
     "metadata": {},
     "output_type": "display_data"
    },
    {
     "data": {
      "application/javascript": [
       "if (typeof Jupyter !== \"undefined\") { window.__context = { glowscript_container: $(\"#glowscript\").removeAttr(\"id\")};}else{ element.textContent = ' ';}"
      ],
      "text/plain": [
       "<IPython.core.display.Javascript object>"
      ]
     },
     "metadata": {},
     "output_type": "display_data"
    }
   ],
   "source": [
    "# Create a new canvas\n",
    "scene = canvas()\n",
    "\n",
    "# define axis length\n",
    "axis_length = 5\n",
    "\n",
    "# create xaxis \n",
    "xaxis = cylinder(pos=vector(-axis_length, 0, 0), axis=vector(2*axis_length, 0, 0), radius=0.05, color=color.gray(0.8))\n",
    "\n",
    "# create y axis\n",
    "yaxis = cylinder(pos=vector(0, -axis_length, 0), axis=vector(0, 2*axis_length, 0), radius=0.05, color=color.gray(0.8))\n",
    "\n",
    "# create z axis\n",
    "zaxis = cylinder(pos=vector(0, 0, -axis_length), axis=vector(0, 0, 2*axis_length), radius=0.05, color=color.gray(0.8))\n"
   ]
  },
  {
   "cell_type": "markdown",
   "metadata": {},
   "source": [
    "**Exercise.** Create a dumbbell shape, by combining a cylinder with two spheres.  Make the cylinder first, with any suitable attributes, naming it **bar**.  Then, when you create the two spheres, simply set the position of one of them to **bar.pos** and the position of the other to **bar.pos + bar.axis**.  This is an example of how you can use the *+* sign to do *vector* addition.  Also set the radius of each sphere to **bar.radius*3**, and set the color of each sphere to **bar.color**."
   ]
  },
  {
   "cell_type": "code",
   "execution_count": 31,
   "metadata": {},
   "outputs": [
    {
     "data": {
      "text/html": [
       "<div id=\"glowscript\" class=\"glowscript\"></div>"
      ],
      "text/plain": [
       "<IPython.core.display.HTML object>"
      ]
     },
     "metadata": {},
     "output_type": "display_data"
    },
    {
     "data": {
      "application/javascript": [
       "if (typeof Jupyter !== \"undefined\") { window.__context = { glowscript_container: $(\"#glowscript\").removeAttr(\"id\")};}else{ element.textContent = ' ';}"
      ],
      "text/plain": [
       "<IPython.core.display.Javascript object>"
      ]
     },
     "metadata": {},
     "output_type": "display_data"
    }
   ],
   "source": [
    "# Create a new canvas\n",
    "scene = canvas()\n",
    "\n",
    "bar = cylinder(pos=vector(0, 0, 0), axis=vector(1, 0, 0), radius=0.1, color=color.green)\n",
    "\n",
    "# position of the first sphere \n",
    "sphere1_pos = bar.pos\n",
    "\n",
    "# position of the second sphere - pos + axis\n",
    "sphere2_pos = bar.pos + bar.axis\n",
    "\n",
    "# Create the first sphere at the position of the first end of the cylinder\n",
    "sphere(pos=sphere1_pos, radius=bar.radius * 3, color=bar.color)\n",
    "\n",
    "# Create the second sphere at the position of the second end of the cylinder\n",
    "sphere(pos=sphere2_pos, radius=bar.radius * 3, color=bar.color)\n"
   ]
  },
  {
   "cell_type": "markdown",
   "metadata": {},
   "source": [
    "The previous exercise included your first examples of addition and multiplication.  Python also provides the *-* operator for subtraction and the */* operator for division, as well as other operators that you'll learn later.\n",
    "\n",
    "**Exercise.** Create a small table (the furniture kind) in your simulated 3D space, consisting of a box for the top plus four cylinders for the legs, oriented with the $y$ direction up.  For convenience and flexibility, start by setting the values of some variables:\n",
    "```\n",
    "    tablex = 2.5\n",
    "    tabley = -2\n",
    "    tablez = -1\n",
    "```\n",
    "Don't feel obligated to use the same numbers as these.  Similarly, introduce and set the variables **tableLength**, **tableWidth**, **tableHeight**, **legRadius**, and **tableColor**.  Instead of providing an explicit number for **legRadius**, use multiplication or division to make it a small fraction of **tableWidth**.  Then create the box that will be the table's top, centering it at **vector(tablex, tabley, tablez)** and setting its length and width to the corresponding variables.  The height of the table's **top**, however, should be only a small fraction of its total height.  (If the line of code to create the tabletop gets too long, you can break it into two; for readability you should then indent the second line by a couple of tabs.)  Finally, create the leg cylinders, using arithmetic to position them near the table's four corners no matter what the values of all your variables are set to.  Try changing some of these values to make sure your table still looks like a table for any reasonable values."
   ]
  },
  {
   "cell_type": "code",
   "execution_count": 57,
   "metadata": {},
   "outputs": [
    {
     "data": {
      "text/html": [
       "<div id=\"glowscript\" class=\"glowscript\"></div>"
      ],
      "text/plain": [
       "<IPython.core.display.HTML object>"
      ]
     },
     "metadata": {},
     "output_type": "display_data"
    },
    {
     "data": {
      "application/javascript": [
       "if (typeof Jupyter !== \"undefined\") { window.__context = { glowscript_container: $(\"#glowscript\").removeAttr(\"id\")};}else{ element.textContent = ' ';}"
      ],
      "text/plain": [
       "<IPython.core.display.Javascript object>"
      ]
     },
     "metadata": {},
     "output_type": "display_data"
    }
   ],
   "source": [
    "from vpython import *\n",
    "# create a canvas\n",
    "scene = canvas()\n",
    "scene.background = color.white\n",
    "tablex = 2.5\n",
    "tabley = -2\n",
    "tablez = -1\n",
    "tableLength = 9  \n",
    "tableWidth = 4   \n",
    "tableHeight = 0.5  \n",
    "legRadius = 0.1 * tableWidth    \n",
    "tableColor = color.blue        \n",
    "\n",
    "# Create a table out of a box and four cylinders\n",
    "\n",
    "top = box(pos=vector(tablex, tabley, tablez),\n",
    "          size=vector(tableLength, tableWidth, tableHeight),\n",
    "          color=tableColor)\n",
    "\n",
    "\n",
    "\n",
    "leg1 = cylinder(pos=vector(tablex - 0.5 * tableLength, tabley - 0.5 * tableWidth, tablez - 0.5 * tableHeight),\n",
    "                axis=vector(0, 0, tableHeight*10),\n",
    "                radius=legRadius,\n",
    "                color=tableColor)\n",
    "\n",
    "leg2 = cylinder(pos=vector(tablex + 0.5 * tableLength, tabley - 0.5 * tableWidth, tablez - 0.5 * tableHeight),\n",
    "                axis=vector(0, 0, tableHeight*10),\n",
    "                radius=legRadius,\n",
    "                color=tableColor)\n",
    "\n",
    "leg3 = cylinder(pos=vector(tablex - 0.5 * tableLength, tabley + 0.5 * tableWidth, tablez - 0.5 * tableHeight),\n",
    "                axis=vector(0, 0,tableHeight*10),\n",
    "                radius=legRadius,\n",
    "                color=tableColor)\n",
    "\n",
    "leg4 = cylinder(pos=vector(tablex + 0.5 * tableLength, tabley + 0.5 * tableWidth, tablez - 0.5 * tableHeight),\n",
    "                axis=vector(0, 0, tableHeight*10),\n",
    "                radius=legRadius,\n",
    "                color=tableColor)\n"
   ]
  },
  {
   "cell_type": "markdown",
   "metadata": {},
   "source": [
    "The \"canvas\"\" in which your shapes appear has its own variable name:  **scene** (recall the line ```scene = canvas()```).  This variable, like **color** and **xaxis**, is a so-called *object* with its own attributes.  (An attribute is essentially a sub-variable that is associated with some larger, more inclusive variable.)  One of the attributes of **scene** is the background color, which is black by default.  Change it to white by inserting this line: ```scene.background = color.white```.\n",
    "Check that this works, then change the background color to a pale sky blue, or to some other very light color that won't use a lot of toner when you later print your scene.  Also set the variable **scene.range** to 5; this will set the initial zoom level to  put $y=5$ at the top edge of the canvas and $y=-5$ at the bottom edge."
   ]
  },
  {
   "cell_type": "code",
   "execution_count": 4,
   "metadata": {},
   "outputs": [
    {
     "data": {
      "text/html": [
       "<div id=\"glowscript\" class=\"glowscript\"></div>"
      ],
      "text/plain": [
       "<IPython.core.display.HTML object>"
      ]
     },
     "metadata": {},
     "output_type": "display_data"
    },
    {
     "data": {
      "application/javascript": [
       "if (typeof Jupyter !== \"undefined\") { window.__context = { glowscript_container: $(\"#glowscript\").removeAttr(\"id\")};}else{ element.textContent = ' ';}"
      ],
      "text/plain": [
       "<IPython.core.display.Javascript object>"
      ]
     },
     "metadata": {},
     "output_type": "display_data"
    }
   ],
   "source": [
    "from vpython import *\n",
    "scene = canvas()\n",
    "scene.range = 5\n",
    "sky_blue = vector(0.7, 0.9, 1)  \n",
    "scene.background = sky_blue\n",
    "box()\n",
    "\n"
   ]
  },
  {
   "cell_type": "markdown",
   "metadata": {},
   "source": [
    "## Comments\n",
    "\n",
    "Over time, programs is get long enough to require some organization---not for the computer's sake, but for your own as you look at the code.  In Jupyter, the code is naturally divided into logical groups by breaking the code into different cells.  \n",
    "\n",
    "**Exercise.** Go back to a few of the previous code cells, and at the top of each cell, insert an introductory *comment* such as\n",
    "```\n",
    "    # Create a table out of a box and four cylinders:\n",
    "```\n",
    "\n",
    "A comment in Python begins with the # character and continues until the end of the line.  To create a multi-line comment, you need to put the # character at the beginning of each line.  The computer completely ignores comments when it runs your program."
   ]
  },
  {
   "cell_type": "markdown",
   "metadata": {},
   "source": [
    "## Animation\n",
    "\n",
    "In this course, you'll need to depict not just static objects but also physical processes that play out in time.  That calls for *animation*, and one of the advantages of VPython is that it makes animation extremely easy.\n",
    "\n",
    "*Exercise.* Start a new scene. Create a small box near $x=-5$ and call it **movingBox**.  Then insert the following code and see what it does:\n",
    "```\n",
    "    # Move a box across the scene in a straight line:\n",
    "    while movingBox.pos.x < 5:\n",
    "        rate(50)\n",
    "        movingBox.pos.x += 0.05\n",
    "```\n",
    "Be sure to indent the last two lines; Following the PEP 8 -- Style Guide for Python Code, you should use 4 spaces for this."
   ]
  },
  {
   "cell_type": "code",
   "execution_count": 2,
   "metadata": {},
   "outputs": [
    {
     "data": {
      "text/html": [
       "<div id=\"glowscript\" class=\"glowscript\"></div>"
      ],
      "text/plain": [
       "<IPython.core.display.HTML object>"
      ]
     },
     "metadata": {},
     "output_type": "display_data"
    },
    {
     "data": {
      "application/javascript": [
       "if (typeof Jupyter !== \"undefined\") { window.__context = { glowscript_container: $(\"#glowscript\").removeAttr(\"id\")};}else{ element.textContent = ' ';}"
      ],
      "text/plain": [
       "<IPython.core.display.Javascript object>"
      ]
     },
     "metadata": {},
     "output_type": "display_data"
    },
    {
     "name": "stdout",
     "output_type": "stream",
     "text": [
      "box animation finished\n",
      "sphere animation finished\n"
     ]
    }
   ],
   "source": [
    "from vpython import *\n",
    "\n",
    "# create a canvas\n",
    "scene = canvas()\n",
    "\n",
    "# create a moving box\n",
    "movingBox = box(pos=vector(-5, 0, 0), size=vector(1, 1, 1), color=color.blue)\n",
    "\n",
    "movingSphere = sphere(pos=vector(0, 0, 0), radius=0.5, color=color.red, make_trail=True, interval=10)\n",
    "\n",
    "# move a box in a straight line:\n",
    "while movingBox.pos.x < 5 :\n",
    "    rate(100)\n",
    "    movingBox.pos.x += 0.025\n",
    "    movingBox.pos.y += 0.007\n",
    "\n",
    "print(\"box animation finished\")\n",
    "\n",
    "\n",
    "# create a graph\n",
    "mygraph = graph(title=\"Position vs Time\", xtitle=\"Time(sec)\", ytitle=\"Position\", width=400, height=250,background=vector(1,1,1))\n",
    "xDots = gdots(color=color.green)\n",
    "yDots = gdots(color=color.magenta)\n",
    "\n",
    "t = 0  # time equal zero \n",
    "\n",
    "r = 3  # set a radius\n",
    "theta = 0  # angle\n",
    "\n",
    "# full rotation\n",
    "while theta < 2 * pi:  \n",
    "    rate(50)\n",
    "    x = r * cos(theta)\n",
    "    y = r * sin(theta)\n",
    "    movingSphere.pos = vector(x, y, 0)\n",
    "    theta += 0.01  \n",
    "\n",
    "    # Plot (t, x) and (t, y) \n",
    "    xDots.plot(t, x)\n",
    "    yDots.plot(t, y)\n",
    "\n",
    "    t += 1\n",
    "\n",
    "print(\"sphere animation finished\")"
   ]
  },
  {
   "cell_type": "markdown",
   "metadata": {},
   "source": [
    "The two indented lines themselves also require explanation.  The first of them, **rate(50)**, tells the computer how fast to try to execute the loop---in this case, 50 times per second.  The next line contains the two-character operator *+=*, which tells the computer to add the quantity on the right *onto* the variable on the left.  Saying *x += 42* is completely equivalent to saying *x = x + 42*.  (When appropriate, you can similarly say *-=*, \\*=, and */=*.)\n",
    "\n",
    "The following exercise should be executed on the last code cell. \n",
    "\n",
    "**Exercise.** Change the parameter **50** in the *rate* function call to some other number, and make sure this change has the expected effect.\n",
    "\n",
    "**Exercise.** Add a line or two to your code to make the box move along a diagonal, rather than directly from left to right.  Make sure the box doesn't move too far in some other direction before the motion stops.\n",
    "\n",
    "**Exercise.** Add code to your program to create a small sphere and then move that sphere at a steady speed once around a circle in the $xy$ plane, centered at the origin.  Use a variable called **theta** for the angle around the circle, and set this variable equal to zero before your **while** loop begins.  Also use a variable called **r** for the circle's radius, and **x** and **y**for its rectangular coordinates.  To calculate **x** and **y** you can use the built-in trigonometric functions *cos* and *sin*, for example, ```x = r * cos(theta)```.  Be careful, though, because the trig functions assume that the parameter you pass to them is in radians; keep this in mind when deciding how much to change *theta* during each loop iteration, and in deciding what conditions to use in the *while* statement.  To actually move the sphere in the graphics scene, use an instruction of the form ```movingSphere.pos = vector(x, y, 0)```.\n",
    "\n",
    "**Exercise.** Look in the VPython documentation (via the Help link, if you don't already have it open) for instructions on how to \"attach a trail\" to an object as it moves.  (Use the easier **make_trail** parameter, not the more complicated *attach_trail* function.)  Attach a trail of points to your moving sphere, using the **interval** attribute to space them a little farther apart than the default.\n",
    "\n",
    "**Exercise.** Remember the *print* function?  Insert a couple more calls to it in your code, to print out suitable messages when each of your animation loops (one for the box, one for the sphere) has finished."
   ]
  },
  {
   "cell_type": "markdown",
   "metadata": {},
   "source": [
    "## Graphing\n",
    "\n",
    "VPython also provides a *graph* object for creating graphs. As an example, let's graph the $x$ and $y$ positions of your moving sphere as functions of \"time\".  Here is the code to set up the graph, with two data sets that will be plotted as dots in different colors:\n",
    "```\n",
    "    graph(width=400, height=250)\n",
    "    xDots = gdots(color=color.green)\n",
    "    yDots = gdots(color=color.magenta)\n",
    "```\n",
    "(I've set the **width** and **height** attributes to make the graph a little smaller than the default, so it will fit more easily on small screens and printed pages.)  After this initial setup, you add a dot to the graph by saying something like\n",
    "```\n",
    "    xDots.plot(t,x)\n",
    "```\n",
    "and similarly for **yDots**.\n",
    "\n",
    "**Exercise.** In the previous code cell, insert the code to set up a graph just before your existing code to move the sphere around in a circle.  Also, in that existing code, insert code to create a variable **t** to represent time, initially equal to zero and increasing by~1 during each loop iteration.  Then, also inside the *while* loop, insert the lines that plot each $(t,x)$ and $(t,y)$ pair, in green and magenta, respectively.  Run the program to make sure it all works.\n",
    "\n",
    "**Exercise.** Look up the other attributes of the *graph* object in the VPython documentation, then set the graph's background color to white, label both axes appropriately, and give it a suitable title.  Notice in the documentation that you can also specify the ranges of values for the graph to show---but for your current graph, leave these unspecified to enable \"auto-scaling\"."
   ]
  },
  {
   "cell_type": "markdown",
   "metadata": {},
   "source": [
    "## Using an IDE\n",
    "\n",
    "Until now, we have been writing code directly in the Jupyter notebook, via the browser. Such work-flow is fine, and you may choose to continue to work like that. However, Jupyter is not a full-fledged editor, nor is it a complete development environment. A complete development environment, something called an *IDE* in software engineering jargon, offers advanced features that streamline software development. So some of you might prefer to use an IDE. You are free to do so -- simply copy your final programs to the correct cells in the notebook before submitting (submission should always be the notebook .ipynb file). \n",
    "\n",
    "There are many options for text-editor/IDE. For this course, we recommended the **spyder** IDE, which is installed as part of Anaconda. You can launch it from the Anaconda navigator. \n",
    "\n",
    "**Exercise.** The following exercise is designed to get you acquainted with the spyder environment. Open spyder, and create a Python program containing the single line of code ```print(\"Hello, world!\")```.  Save this program under the name *Hello.py*, and make sure you know how to run it from within spyder.  Then, go back to your command-line window (Anaconda Prompt or Terminal) and use the *cd* command (\"change directory'\") to navigate to the folder where you saved your program (for example, on Windows, type something like ```cd \\Users\\username\\Desktop```).  Then type ```python Hello.py``` to launch your program, and check that you see the printed greeting."
   ]
  },
  {
   "cell_type": "markdown",
   "metadata": {},
   "source": [
    "## Finishing up\n",
    "\n",
    "Congratulations!  You now know how to use Python and VPython to do basic arithmetic, draw and animate shapes, create graphs, and produce text output.  You'll get plenty of practice with all of these tasks in later projects.  "
   ]
  }
 ],
 "metadata": {
  "kernelspec": {
   "display_name": "Python 3 (ipykernel)",
   "language": "python",
   "name": "python3"
  },
  "language_info": {
   "codemirror_mode": {
    "name": "ipython",
    "version": 3
   },
   "file_extension": ".py",
   "mimetype": "text/x-python",
   "name": "python",
   "nbconvert_exporter": "python",
   "pygments_lexer": "ipython3",
   "version": "3.11.7"
  },
  "latex_metadata": {
   "affiliation": "Tel Aviv University",
   "author": "Yoel Shkkolnisky and Haim Avron",
   "title": "Workshop - Preface and Project 1"
  }
 },
 "nbformat": 4,
 "nbformat_minor": 4
}
