{
 "cells": [
  {
   "cell_type": "raw",
   "metadata": {},
   "source": [
    "\\newcommand{\\spn}[1]{{\\bf spn}\\{#1\\}}\n",
    "\\newcommand{\\range}[1]{{\\bf range}(#1)}\n",
    "\\newcommand{\\rank}[1]{{\\bf rank}(#1)}\n",
    "\\newcommand{\\trace}[1]{{\\bf trace}(#1)}\n",
    "\\newcommand{\\Null}[1]{{\\bf null}(#1)}"
   ]
  },
  {
   "cell_type": "markdown",
   "metadata": {},
   "source": [
    "Adapted from *Physics Simulations in Python -- A Lab Manual*, by Daniel V. Schroeder, Department of Physics, Weber State University, http://physics.weber.edu/schroeder/scicomp/\n",
    "\n",
    "This work is licensed under the Creative Commons Attribution 4.0 International License.  To view a copy of this license, visit http://creativecommons.org/licenses/by/4.0/ or send a letter to Creative Commons, PO Box 1866, Mountain View, CA 94042, USA."
   ]
  },
  {
   "cell_type": "markdown",
   "metadata": {},
   "source": [
    "# Introduction\n",
    "\n",
    "In this project you will explore the behavior of a pendulum.  There is no\n",
    "better example of a system that seems simple at first but turns out to hold\n",
    "intricate layers of complexity.\n",
    "\n",
    "The figure below shows the basic setup:  a fixed pivot, a massless rod\n",
    "of length $L$,\n",
    "and a point-mass~$m$ at the end, swinging in the plane of the page.\n",
    "\n",
    "![dummy](http://www.math.tau.ac.il/~haimav/PendulumSketch.png)\n",
    "\n",
    "It's\n",
    "easiest to analyze the motion in terms of torque and angular acceleration;\n",
    "recall that the angular version of Newton's second law is\n",
    "\\begin{equation}\n",
    "\\sum \\tau = I\\alpha. \\label{NewtonRotation}\n",
    "\\end{equation}\n",
    "On the left-hand side of this equation is the sum of all the torques acting on the object.  On the right-hand side, $I$ is the object's rotational inertia, simply $mL^2$ for our\n",
    "pendulum.  The angular acceleration $\\alpha$ is defined analogously to the\n",
    "ordinary acceleration:\n",
    "\\begin{equation}\n",
    "\\alpha = {d\\omega\\over dt} = {d^2\\theta\\over dt^2},\n",
    "\\end{equation}\n",
    "where $\\omega$ is the angular velocity and $\\theta$ is assumed to be in radians.\n",
    "\n",
    "\n",
    "From the diagram we see that the torque due to gravity is\n",
    "\\begin{equation}\n",
    "\\tau_{g} = - L|\\vec F_g|\\sin\\theta = -Lmg\\sin\\theta,\n",
    "\\end{equation}\n",
    "where the minus sign indicates that the torque is negative (clockwise)\n",
    "when $\\theta$ is positive, and vice-versa.  If there is no friction or other\n",
    "torque acting, then Newton's law \\eqref{NewtonRotation} says simply\n",
    "\\begin{equation}\n",
    "-Lmg\\sin\\theta = mL^2\\alpha, \\qquad\\hbox{or}\\qquad \\alpha = -{g\\over L}\\sin\\theta.\n",
    "\\label{simplePendulumEq}\n",
    "\\end{equation}\n",
    "Although we drew the diagram for a small positive value of $\\theta$, this equation\n",
    "is valid for all angles -- even angles greater than 90$^\\circ$, if the\n",
    "rod is rigid.\n",
    "\n",
    "Because the mass $m$ has canceled out of \\eqref{simplePendulumEq}, there will be no need to specify a mass in your pendulum simulation.  You might think you *do* need to specify a length $L$, and also a value of $g$ (depending on which planet the pendulum lives on), but in fact you don't, because we still have the freedom to choose our *units* for measuring distance and time. Our freedom to choose units means that whatever the actual values of $L$ and $g$, we can simply specify that we're using units in which both of these constants are equal to 1.  These units are called *natural units*. One advantage of using natural units is that \\eqref{simplePendulumEq} becomes simply $\\alpha=-\\sin\\theta$.  But the real advantage is that your simulation will be applicable to *any* pendulum on *any* planet.  The price is that in order to apply your results to a particular pendulum, you may need to convert them from natural units to more conventional units after running the simulation.\n",
    "\n",
    "**Exercise.** Suppose (just for this exercise) that we want to study a pendulum on earth ($g = 9.8$ m/s$^2$) that is half a meter long.  Then our unit of distance will be a half meter; let's call this unit the *ham*.  Define a corresponding natural unit of time, called the *tic*, such that $g = 1.0$ ham/tic$^2$.  How many seconds are in a tic?"
   ]
  },
  {
   "cell_type": "markdown",
   "metadata": {},
   "source": [
    "\r\n",
    "## Time Unit Conversion: \"tic\"\r\n",
    "\r\n",
    "To establish the time unit \"tic\" for a pendul:th:\r\n",
    "\r",
    "our variables are defined by :e use**: \r\n",
    "  - Gravitational accelerag = m/s^2\n",
    "  m/s)^2\r\n",
    "  - Unit of distance, 1 ham = 0.5 meters\r\n",
    "  - g in natural units is 1.0 ham/tic^2\r\n",
    "\r\n",
    "- **Step 1**: Convert g from m/s^2 to ham/tic^2:\r\n",
    "  - 1.0 ham/tic^2 = 9.8 m/s^2 / 0.5 m/ham\r\n",
    "\r\n",
    "- **Step 2**: Solve for tic^2:\r\n",
    "  - tic^2 = 0.5 m / 9.8 m/s^2 = 0.051020408163265306 s^2\r\n",
    "\r\n",
    "- **Step 3**: Calculate tic:\r\n",
    "  - tic = sqrt(0.051020408163265306)  so fors ≈ 0.2259 s\r\n",
    "\r\n",
    "### Conclusion:\r\n",
    "One \"tic\" approximately equ\n",
    "als 0.2259of  seconds. This unit conversion allows the simulation of the pendulum as we need using natural units."
   ]
  },
  {
   "cell_type": "markdown",
   "metadata": {},
   "source": [
    "**Exercise.** In order to draw a pendulum using VPython, you will need to express the position of the pendulum bob in rectangular coordinates.  Taking the origin to be at the pivot and the $x$ and $y$ directions to be to the right and upward, respectively, what are the formulas for $x$ and $y$ in terms of $\\theta$?"
   ]
  },
  {
   "cell_type": "markdown",
   "metadata": {},
   "source": [
    "**Answers:**\n",
    "\n",
    "$x=L * \\cos\\theta$\n",
    "\n",
    "$y=L * \\sin\\theta$\n",
    "\n",
    "\r\n"
   ]
  },
  {
   "cell_type": "markdown",
   "metadata": {},
   "source": [
    "**Exercise.** In the cell below, write a program to simulate the motion of a pendulum swinging under the influence of gravity and no other torques.  Use the Euler algorithm, with the variables **theta** (in radians), **omega**, and **alpha** playing the roles of $y$, $v_y$, and $a_y$ in your original p\n",
    "rojectile simulation (from the previous project).  Check carefully that the order of the lines in the algorithm is the same as in the example in the second project.  In the 3D graphics space, represent the pendulum bob as a sphere, the pendulum rod as a cylinder, and the pivot at the other end of the rod as a short cylinder perpendicular to the plane of motion.  You may optionally wish to draw a stand of some sort to \"support\" the pivot.  Use natural units with $g=L=1$ (so you don't need these variables at all!), and a time step of 0.01 in these units.  Choose initial conditions such that the amplitude of the swing will be fairly small.  Once everything seems to be working, let the simulation run for a while and describe what you observe."
   ]
  },
  {
   "cell_type": "code",
   "execution_count": 3,
   "metadata": {},
   "outputs": [
    {
     "data": {
      "text/html": [
       "<div id=\"glowscript\" class=\"glowscript\"></div>"
      ],
      "text/plain": [
       "<IPython.core.display.HTML object>"
      ]
     },
     "metadata": {},
     "output_type": "display_data"
    },
    {
     "data": {
      "application/javascript": [
       "if (typeof Jupyter !== \"undefined\") { window.__context = { glowscript_container: $(\"#glowscript\").removeAttr(\"id\")};}else{ element.textContent = ' ';}"
      ],
      "text/plain": [
       "<IPython.core.display.Javascript object>"
      ]
     },
     "metadata": {},
     "output_type": "display_data"
    },
    {
     "name": "stdout",
     "output_type": "stream",
     "text": [
      " total energy at the begining is : 0.019933422158758374\n",
      "Final Total Energy : 0.019943329456855452\n"
     ]
    }
   ],
   "source": [
    "from vpython import *\n",
    "\n",
    "# Create a canvas \n",
    "simulation_canvas = canvas(title='Pendulum Simulation',\n",
    "                           width=600, height=400,\n",
    "                           background=color.white)\n",
    "\n",
    "# graph plotting theta vs time\n",
    "theta_graph = graph(width=450, height=450, title='Theta vs Time', xtitle='t (s)', ytitle='theta (radians)')\n",
    "theta_plot = gdots(color=color.blue, interval=100)  # Set plotting interval to 10\n",
    "\n",
    "# constants\n",
    "g = 1.0  # acceleration due to gravity in natural units\n",
    "L = 1.0  # length of the pendulum in natural units\n",
    "dt = 0.00001  # time step\n",
    "\n",
    "# Initial conditions\n",
    "theta = 0.2  # initial angle \n",
    "omega = 0.0  # initial angular velocity\n",
    "t = 0  \n",
    "\n",
    "# create pendulum \n",
    "pivot = vector(0, 0, 0)  \n",
    "bob = sphere(pos=vector(L * sin(theta), -L * cos(theta), 0), radius=0.05, color=color.yellow)\n",
    "rod = cylinder(pos=pivot, axis=bob.pos - pivot, radius=0.02, color=color.white)\n",
    "stand = cylinder(pos=vector(0, 0, 0), axis=vector(0, -0.1, 0), radius=0.02, color=color.blue)\n",
    "\n",
    "# Define axes (x, y, z) - not part of the question , more comfort for me .\n",
    "axis_length = 1.5\n",
    "x_axis = arrow(pos=vector(0, 0, 0), axis=vector(axis_length, 0, 0), color=color.red, shaftwidth=0.02)\n",
    "y_axis = arrow(pos=vector(0, 0, 0), axis=vector(0, axis_length, 0), color=color.green, shaftwidth=0.02)\n",
    "z_axis = arrow(pos=vector(0, 0, 0), axis=vector(0, 0, axis_length), color=color.blue, shaftwidth=0.02)\n",
    "\n",
    "def calculate_energy(theta, omega):\n",
    "    return 0.5 * omega**2 + (1 - cos(theta))\n",
    "\n",
    "\n",
    "initial_energy = calculate_energy(theta, omega) \n",
    "\n",
    "print(' total energy at the begining is :',initial_energy) \n",
    "\n",
    "\n",
    "# loop\n",
    "while True:\n",
    "    if t >= 50:\n",
    "        break\n",
    "    \n",
    "    rate(1/dt)  \n",
    "    \n",
    "    # Calculate angular acceleration at the beginning of the interval\n",
    "    alpha = -g / L * sin(theta)\n",
    "\n",
    "    # Update angular velocity and angle\n",
    "    theta += omega * dt\n",
    "    omega += alpha * dt\n",
    "   \n",
    "    # Update positions of bob\n",
    "    bob.pos = vector(L * sin(theta), -L * cos(theta), 0)\n",
    "    rod.axis = bob.pos - pivot\n",
    "\n",
    "    # Plot theta vs time\n",
    "    theta_plot.plot(t, theta)\n",
    "\n",
    "    t += dt\n",
    "\n",
    "\n",
    "\n",
    "# Calculate final energy\n",
    "final_energy = calculate_energy(theta, omega)\n",
    "print('Final Total Energy :', final_energy)\n",
    "\n",
    "\n"
   ]
  },
  {
   "cell_type": "markdown",
   "metadata": {},
   "source": [
    "**Your observations:** we can see the movement behavior of the palladium when we change the variable of theta and omega."
   ]
  },
  {
   "cell_type": "markdown",
   "metadata": {},
   "source": [
    "**Exercise.** To the program in the previous cell, add a graph of $\\theta$ (vertically) vs. $t$ (horizontally).  Be sure to label the axes appropriately.  Set the plotting **interval** to 10, in order to reduce the slow-down that will occur as more and more points are added to the graph.  (Throughout the rest of this project, use your discretion to adjust the plotting interval as appropriate.)  Use your graph to determine the approximate period of the pendulum in natural units, and write down the result.  Does your result agree with what you learned in introductory physics?  Explain."
   ]
  },
  {
   "cell_type": "markdown",
   "metadata": {},
   "source": [
    "**Explanation**: \n",
    "\n",
    "In the graph, we can see that the approximate period of the pendulum is roughly 6.2 (as i checked on the graph).\n",
    "\n",
    "Yes, I agree with the result, but this is not the best approximation by our code. We know which by formula:\n",
    "\n",
    "T = 2π * sqrt(L / g)\n",
    "\n",
    "So, when we set L = 1 and g = 9.8, we will get T = 2π ≈ 6.28. pretty similar as shown on the graph.\r\n"
   ]
  },
  {
   "cell_type": "markdown",
   "metadata": {},
   "source": [
    "# Accuracy over long time periods\n",
    "\n",
    "**Exercise.** Use the program in the cell above to run for about 50 units of time, then run it.  Describe the appearance of the graph of $\\theta$ vs. $t$ in the cell below, and explain what's wrong with it.\n",
    "\n"
   ]
  },
  {
   "cell_type": "markdown",
   "metadata": {},
   "source": [
    "**Answers:** \n",
    "\n",
    "There should be a difference in the total energy at the end and at the beginning of the simulation (due to numerical problems),\n",
    "the amplitude in the graph will appear uneven in each cycle.imulation.\r\n"
   ]
  },
  {
   "cell_type": "markdown",
   "metadata": {},
   "source": [
    "**Exercise.** Work out a formula for the total energy (kinetic plus gravitational)\n",
    "of the pendulum, in terms of $\\theta$, $\\omega$, and constants.  Take the gravitational energy to be zero at the lowest point of the pendulum's swing.  (Use a picture\n",
    "and some trigonometry to relate $\\theta$ to the height of the pendulum bob. Do not\n",
    "set $g = L = 1$ in this exercise.)"
   ]
  },
  {
   "cell_type": "markdown",
   "metadata": {},
   "source": [
    "### Total Energy of a Pendulum\n",
    "\n",
    "To calculate the total energy of a pendulum, we consider both kinetic and potential energies. The total energy is the sum of the kinetic energy by the motion and the gravitational potential energy by height.\n",
    "\n",
    "#### Kinetic Energy (KE)\n",
    "\n",
    "The kinetic energy of the pendulum is :\n",
    "\n",
    "$$ KE = \\frac{1}{2} m v^2 $$\n",
    "\n",
    "where \\(m\\) is the mass of the bob, and \\(v\\) is its velocity. The velocity \\(v\\) can be expressed by the angular velocity \\(\\omega\\) :\n",
    "\n",
    "$$ v = L \\omega $$\n",
    "\n",
    "where \\(L\\) is the length of the pendulum rod. Therefore, the kinetic energy equation becomes:\n",
    "\n",
    "$$ KE = \\frac{1}{2} m (L \\omega)^2 = \\frac{1}{2} mL^2 \\omega^2 $$\n",
    "\n",
    "#### Potential Energy (PE)\n",
    "\n",
    "The potential energy is dependent on the height of the pendulum above its lowest point. If the pendulum is displaced by an angle \\(\\theta\\) from the vertical position, its height \\(h\\) can be described by the formula :\n",
    "\n",
    "$$ h = L - L \\cos(\\theta) = L(1 - \\cos(\\theta)) $$\n",
    "\n",
    "Therefore, the potential energy is:\n",
    "\n",
    "$$ PE = mgh = mgL(1 - \\cos(\\theta)) $$\n",
    "\n",
    "#### Total Energy (E)\n",
    "\n",
    "Combining the kinetic and potential energies to get the total energy of the pendulum is:\n",
    "\n",
    "$$ E = KE + PE = \\frac{1}{2} mL^2 \\omega^2 + mgL(1 - \\cos(\\theta)) $$\n",
    "\n",
    "This formula indicates that the total energy of the pendulum, should be conserved in the absence of non conservative forces like air resistance or friction.\n",
    "servative force.se pivot.\r\n",
    "or friction at the pivot.\r\n"
   ]
  },
  {
   "cell_type": "markdown",
   "metadata": {},
   "source": [
    "**Exercise.** Add some lines to your program to compute and print the total\n",
    "energy of the pendulum at both the beginning and the end of the simulation.  For the\n",
    "purpose of this computation, you should continue to take $L$, $g$, and $m$ all to equal $1$ (in natural units).  Write the results below, and explain why something\n",
    "must be wrong."
   ]
  },
  {
   "cell_type": "markdown",
   "metadata": {},
   "source": [
    "**Answers:**  \n",
    "at our system we suppose to get same total energy at every point of the pendulum, because we have no damping or external forces,\n",
    "in our csae we can see which we get a total energy at the beginning and the end of the simulation differs significantly (add them below) ,probably this happened because the simulation has numerical errors . (when we use de = 0.01)\n",
    "\n",
    "total energy at the begining is : 0.019933422158758374, \n",
    "\r\n",
    "Final Total Energy : 0.03273548172250257."
   ]
  },
  {
   "cell_type": "markdown",
   "metadata": {},
   "source": [
    "**Exercise.** Run the simulation again with a smaller value of **dt**.  (Be sure to adjust your *rate* function and graphing **interval** accordingly.)  How do the results change?  Is this what you would expect?"
   ]
  },
  {
   "cell_type": "markdown",
   "metadata": {},
   "source": [
    "**Answers:**\n",
    "\n",
    "for dt=0.00001 (and smaller) we can see which the energy is conserved, the intital energy ans the final energy are very close.\n",
    "\n",
    "when we try a bigger dt, the enrgy is not conserved by our calculatio.\n",
    "\n",
    "because dt=0.00001, is very small we can conclude which our algorithm isnt enough accurate.\n",
    "\n",
    "the graphe of \\theta vs t is look same , but more accurate by dt smaller.\n",
    "a * dt\r\n",
    "    t += dt\r\n"
   ]
  },
  {
   "cell_type": "markdown",
   "metadata": {},
   "source": [
    "The preceding exercises illustrate a common problem with numerical calculations:\n",
    "small truncation errors can add up over time to produce large inaccuracies.\n",
    "When a quantity such as the total energy is supposed to be exactly conserved,\n",
    "you should always monitor this quantity for any significant drift that might\n",
    "come from compounded truncation errors.  While using a smaller time step\n",
    "can provide a brute-force solution to this problem, it's usually better to\n",
    "switch to a more accurate algorithm (if possible).\n",
    "\n",
    "**Exercise.** In the cell below write a new version of the program that uses the Euler-Richardson\n",
    "algorithm instead of the Euler algorithm.  For a time step of 0.01 and\n",
    "a total running time of 50 time units, how much does the total energy drift?"
   ]
  },
  {
   "cell_type": "code",
   "execution_count": 1,
   "metadata": {},
   "outputs": [
    {
     "data": {
      "text/html": [
       "<div id=\"glowscript\" class=\"glowscript\"></div>"
      ],
      "text/plain": [
       "<IPython.core.display.HTML object>"
      ]
     },
     "metadata": {},
     "output_type": "display_data"
    },
    {
     "data": {
      "application/javascript": [
       "if (typeof Jupyter !== \"undefined\") { window.__context = { glowscript_container: $(\"#glowscript\").removeAttr(\"id\")};}else{ element.textContent = ' ';}"
      ],
      "text/plain": [
       "<IPython.core.display.Javascript object>"
      ]
     },
     "metadata": {},
     "output_type": "display_data"
    },
    {
     "data": {
      "text/html": [
       "<div id=\"glowscript\" class=\"glowscript\"></div>"
      ],
      "text/plain": [
       "<IPython.core.display.HTML object>"
      ]
     },
     "metadata": {},
     "output_type": "display_data"
    },
    {
     "data": {
      "application/javascript": [
       "if (typeof Jupyter !== \"undefined\") { window.__context = { glowscript_container: $(\"#glowscript\").removeAttr(\"id\")};}else{ element.textContent = ' ';}"
      ],
      "text/plain": [
       "<IPython.core.display.Javascript object>"
      ]
     },
     "metadata": {},
     "output_type": "display_data"
    },
    {
     "name": "stdout",
     "output_type": "stream",
     "text": [
      "total energy at the begining is : 0.019933422158758374\n",
      "final_energy 0.019933355720869985\n",
      "total energy drift : 6.643788838869846e-08\n"
     ]
    }
   ],
   "source": [
    "\n",
    "from vpython import *\n",
    "\n",
    "# create a canvas\n",
    "simulation_canvas = canvas(title='Pendulum Simulation',\n",
    "                           width=600, height=400,\n",
    "                           background=color.white)\n",
    "\n",
    "# graph plotting theta vs time\n",
    "theta_graph = graph(width=450, height=450, title='Theta vs Time', xtitle='t (s)', ytitle='theta (radians)')\n",
    "theta_plot = gdots(color=color.blue, interval=10) \n",
    "\n",
    "# Constants\n",
    "g = 1.0  # gravity in natural units\n",
    "L = 1.0  # length natural units\n",
    "dt = 0.01  # time steps\n",
    "\n",
    "\n",
    "# Initial conditions\n",
    "theta = 0.2  \n",
    "omega = 0.0  \n",
    "t = 0  \n",
    "\n",
    "# Create pendulum \n",
    "pivot = vector(0, 0, 0)  # pivot point at the origin\n",
    "bob = sphere(pos=vector(L * sin(theta), -L * cos(theta), 0), radius=0.05, color=color.yellow)\n",
    "rod = cylinder(pos=pivot, axis=bob.pos - pivot, radius=0.02, color=color.white)\n",
    "stand = cylinder(pos=vector(0, 0, 0), axis=vector(0, -0.1, 0), radius=0.02, color=color.blue)\n",
    "\n",
    "\n",
    "# Define axes (x, y, z)\n",
    "axis_length = 1.5\n",
    "x_axis = arrow(pos=vector(0, 0, 0), axis=vector(axis_length, 0, 0), color=color.red, shaftwidth=0.02)\n",
    "y_axis = arrow(pos=vector(0, 0, 0), axis=vector(0, axis_length, 0), color=color.green, shaftwidth=0.02)\n",
    "z_axis = arrow(pos=vector(0, 0, 0), axis=vector(0, 0, axis_length), color=color.blue, shaftwidth=0.02)\n",
    "\n",
    "def calculate_energy(theta, omega):\n",
    "    return 0.5 * omega**2 + (1 - cos(theta))\n",
    "\n",
    "begining_energy = calculate_energy(theta, omega)\n",
    "print('total energy at the begining is :',begining_energy) \n",
    "\n",
    "\n",
    "# simulation loop\n",
    "while True:\n",
    "    if t >= 50:\n",
    "        break\n",
    "    \n",
    "    rate(1/dt)  \n",
    "    \n",
    "    # Calculate angular acceleration \n",
    "    alpha = -g / L * sin(theta)\n",
    "\n",
    "    # Update angular velocity and angle\n",
    "    mid_omega = omega - 0.5 * g * sin(theta) * dt / L\n",
    "    mid_theta = theta + 0.5 * mid_omega * dt\n",
    "\n",
    "    mid_alpha = -g * sin(mid_theta) / L\n",
    "\n",
    "    \n",
    "    \n",
    "    theta += mid_omega * dt\n",
    "    omega += mid_alpha * dt\n",
    "    \n",
    "    \n",
    "    # Update positions\n",
    "    bob.pos = vector(L * sin(theta), -L * cos(theta), 0)\n",
    "    rod.axis = bob.pos - pivot\n",
    "\n",
    "    # Plot theta vs time\n",
    "    theta_plot.plot(t, theta)\n",
    "\n",
    "    t += dt\n",
    "\n",
    "\n",
    "\n",
    "# calculate final energy\n",
    "final_energy = calculate_energy(theta, omega)\n",
    "print(\"final_energy\",final_energy)\n",
    "\n",
    "print(\"total energy drift :\" ,abs(begining_energy-final_energy))\n",
    "\n",
    "\n"
   ]
  },
  {
   "cell_type": "markdown",
   "metadata": {},
   "source": [
    "**Answers:**  \n",
    "the total energy drift is : 6.643788838869846e-08\n",
    "\n",
    "so now we can say which our algorithm describe better our system, with dt = 0.01."
   ]
  },
  {
   "cell_type": "markdown",
   "metadata": {},
   "source": [
    "In subsequent steps, make sure to **not modify** the cell above. You will copy it to cells below and modify it, but we want to keep the current version intact since we will return to it. Let's call the program in the last cell by the name ``Pendulum1``."
   ]
  },
  {
   "cell_type": "markdown",
   "metadata": {},
   "source": [
    "# Large-angle motion\n",
    "\n",
    "Now that you've minimized your program's numerical inaccuracies,\n",
    "let's examine how the motion varies when the amplitude is changed.\n",
    "\n",
    "Although you can read the approximate period of the pendulum\n",
    "from your graph, it's much more accurate to have the program calculate and\n",
    "print the period.  Here's one way to do this:  Introduce a variable called\n",
    "**lastTheta**, and set it equal to **theta** just before each time\n",
    "**theta** is updated.  After updating **theta**, check whether **theta**\n",
    "is positive and **lastTheta** is negative.  If so, the pendulum has just crossed\n",
    "$\\theta=0$ while moving from left to right.  In this case, do an interpolation to compute the time when the crossing occurred (like when you computed the time the projectile landed in the previous project) and remember this time in another variable.  The time between\n",
    "one such crossing and the next equals the period of the pendulum.\n",
    "\n",
    "**Exercise.** Copy the ``Pendulum1`` program to the cell below, comment-out the code to calculate and display the pendulum's initial and final energy (by placing a ``#`` character in front of each line).  Then implement the algorithm just described for determining the period of the pendulum.  Check to make sure it works.  Also modify your simulation loop so it stops right after calculating and printing the period. Explain how did you verify your code is correct."
   ]
  },
  {
   "cell_type": "code",
   "execution_count": 5,
   "metadata": {},
   "outputs": [
    {
     "data": {
      "text/html": [
       "<div id=\"glowscript\" class=\"glowscript\"></div>"
      ],
      "text/plain": [
       "<IPython.core.display.HTML object>"
      ]
     },
     "metadata": {},
     "output_type": "display_data"
    },
    {
     "data": {
      "application/javascript": [
       "if (typeof Jupyter !== \"undefined\") { window.__context = { glowscript_container: $(\"#glowscript\").removeAttr(\"id\")};}else{ element.textContent = ' ';}"
      ],
      "text/plain": [
       "<IPython.core.display.Javascript object>"
      ]
     },
     "metadata": {},
     "output_type": "display_data"
    },
    {
     "name": "stdout",
     "output_type": "stream",
     "text": [
      "10\t6.30\n",
      "20\t6.33\n",
      "30\t6.39\n",
      "40\t6.48\n",
      "50\t6.60\n",
      "60\t6.74\n",
      "70\t6.92\n",
      "80\t7.15\n",
      "90\t7.42\n",
      "100\t7.74\n",
      "110\t8.14\n",
      "120\t8.63\n",
      "130\t9.24\n",
      "140\t10.02\n",
      "150\t11.07\n",
      "160\t12.61\n",
      "170\t15.33\n"
     ]
    }
   ],
   "source": [
    "# calculate amplitude vs periods\n",
    "\n",
    "from vpython import *\n",
    "\n",
    "# constants\n",
    "g = 1.0  \n",
    "L = 1.0  \n",
    "dt = 0.01  \n",
    "\n",
    "# create a canvas \n",
    "simulation_canvas = canvas(title='Pendulum Simulation', width=600, height=400, background=color.white)\n",
    "\n",
    "# Define axes (x, y, z)\n",
    "axis_length = 1.5\n",
    "x_axis = arrow(pos=vector(0, 0, 0), axis=vector(axis_length, 0, 0), color=color.red, shaftwidth=0.02)\n",
    "y_axis = arrow(pos=vector(0, 0, 0), axis=vector(0, axis_length, 0), color=color.green, shaftwidth=0.02)\n",
    "z_axis = arrow(pos=vector(0, 0, 0), axis=vector(0, 0, axis_length), color=color.blue, shaftwidth=0.02)\n",
    "\n",
    "amplitudes = []\n",
    "periods = []\n",
    "\n",
    "# Loop - amplitudes from 10 to 170 degrees\n",
    "for angle_deg in range(10, 180, 10):\n",
    "    \n",
    "    amplitudes.append(angle_deg)\n",
    "    \n",
    "    theta = radians(angle_deg)  # Convert angle to radians\n",
    "    omega = 0.0  # initial angular velocity\n",
    "    t = 0  # start time\n",
    "    lastTheta = theta  # Initialize lastTheta with the initial theta\n",
    "    lastCrossingTime = None  # to store the time of the last zero crossing\n",
    "\n",
    "    # graph for plotting theta vs time\n",
    "    theta_graph = graph(width=450, height=450, title=f'Theta vs Time for Angle {angle_deg} degrees', xtitle='t (s)', ytitle='theta (radians)')\n",
    "    theta_plot = gdots(graph=theta_graph, color=color.blue, interval=10)  # Set plotting interval\n",
    "\n",
    "    # create pendulum \n",
    "    pivot = vector(0, 0, 0)  # pivot point at the origin\n",
    "    bob = sphere(pos=vector(L * sin(theta), -L * cos(theta), 0), radius=0.05, color=color.yellow)\n",
    "    rod = cylinder(pos=pivot, axis=bob.pos - pivot, radius=0.02, color=color.white)\n",
    "\n",
    "    \n",
    "    # simulation loop\n",
    "    while True:\n",
    "        rate(100) \n",
    "        \n",
    "        # Euler Richardson method\n",
    "        alpha = -g / L * sin(theta)\n",
    "        mid_omega = omega + 0.5 * alpha * dt\n",
    "        mid_theta = theta + 0.5 * mid_omega * dt\n",
    "        mid_alpha = -g / L * sin(mid_theta)\n",
    "        \n",
    "        new_omega = omega + mid_alpha * dt\n",
    "        new_theta = theta + mid_omega * dt\n",
    "\n",
    "        # Check for zero crossing from negative to positive\n",
    "        if lastTheta < 0 and new_theta >= 0:\n",
    "            # Linear interpolation to find the exact crossing time\n",
    "            interpTime = t + (0 - lastTheta) / (new_theta - lastTheta) * dt\n",
    "            if lastCrossingTime is not None:\n",
    "                period = interpTime - lastCrossingTime\n",
    "                periods.append(period)  \n",
    "                print(f\"{angle_deg}\\t{period:.2f}\")\n",
    "                break  # Exit the inner loop after printing one period\n",
    "            lastCrossingTime = interpTime\n",
    "\n",
    "        # Update positions \n",
    "        bob.pos = vector(L * sin(new_theta), -L * cos(new_theta), 0)\n",
    "        rod.axis = bob.pos - pivot\n",
    "        \n",
    "        # Plot theta vs time\n",
    "        theta_plot.plot(t, new_theta)\n",
    "\n",
    "        # Update variables \n",
    "        lastTheta = new_theta  \n",
    "        theta = new_theta\n",
    "        omega = new_omega\n",
    "        t += dt\n",
    "\n"
   ]
  },
  {
   "cell_type": "markdown",
   "metadata": {},
   "source": [
    "**Explain how did you verify your code is correct**\n",
    "\n",
    "We got the period of the pendulum as: 6.298902863232729, and as we know by the formula ehich the period is described by the formula:\n",
    "\n",
    "T = 2π * sqrt(L / g)\n",
    "\n",
    "because L = g = 1, we expect T to be roughly 2π (approximately 6.283), and it's close to our result from the code: \"Period of the pendulum is: 6.298902863232729\"\n",
    "\n",
    "according the instruction i suppose to delete the code of this part , instead of this i put the code in commas .\n",
    "\n",
    "\n"
   ]
  },
  {
   "cell_type": "markdown",
   "metadata": {},
   "source": [
    "**Excercise.** Modify the cell above to run the simulation successively for amplitudes 10$^\\circ$, 20$^\\circ$, and so on up to 170$^\\circ$, printing out a table with the amplitude (in degrees) in the first column and the period in the second column.  To do this, you'll want to embed your entire simulation loop inside a larger **while** loop that loops over the amplitude values, reinitializing the pendulum each time through.  Be sure to adjust the indentation appropriately, and be careful converting angles from degrees to radians and then back again.  If you would like to reinitialize the graph of $\\theta$ vs. $t$ for each new amplitude, you can do this by calling the *delete()* function of your **gdots** object.  Another useful trick is to put a tab character, ``\"\\t\"``, between the amplitude and period in your *print* output.  Check that everything works, so you get a table as intended in the print area.\n",
    "\n",
    "Of course, a graph of period vs. amplitude would be better than a mere table of numbers.  You could easily produce such a graph, by adding just a few lines to your code.  Often, however, for graphing final results we use a different software environment than what we used for the simulation itself.  In this case, it is convenient to use a library called *matplotlib* to draw graphs right inside the notebook.\n",
    "\n",
    "**Excercise.**  Use the internet to learn how to install and use matplotlib. Use matplotlib  to make a scatter plot of period (vertically) vs. amplitude (horizontally), making sure to have axis labels set correctly. A working complete code for making the scatter plot should be written in the cell below, and the graph should appear below it (after running)."
   ]
  },
  {
   "cell_type": "code",
   "execution_count": 8,
   "metadata": {},
   "outputs": [
    {
     "data": {
      "image/png": "[encoded data removed]",
      "text/plain": [
       "<Figure size 1000x600 with 1 Axes>"
      ]
     },
     "metadata": {},
     "output_type": "display_data"
    }
   ],
   "source": [
    "#print(len(amplitudes) , '\\n' , len(periods)) \n",
    "#print(amplitudes , '\\n' , periods)\n",
    "\n",
    "import matplotlib.pyplot as plt\n",
    "\n",
    "\n",
    "plt.figure(figsize=(10, 6))  \n",
    "plt.scatter(amplitudes, periods, color='b') \n",
    "\n",
    "\n",
    "plt.title('Pendulum Period vs. Amplitude')\n",
    "plt.xlabel('Amplitude (degrees)')\n",
    "plt.ylabel('Period (seconds)')\n",
    "\n",
    "plt.show()"
   ]
  },
  {
   "cell_type": "markdown",
   "metadata": {},
   "source": [
    "# Friction and driving forces\n",
    "\n",
    "Now let's add some further complications:  Friction to slow the pendulum down,\n",
    "and a periodic external torque that continually adds energy to the system.\n",
    "\n",
    "A simple way to add friction is to subtract a term proportional to $\\omega$\n",
    "from the right-hand side of \\eqref{simplePendulumEq} for the angular\n",
    "acceleration:\n",
    "\\begin{equation}\n",
    "\\alpha = -{g\\over L}\\sin\\theta - c\\,\\omega.  \\label{alphaWithDamping}\n",
    "\\end{equation}\n",
    "A linear resistive force (or torque) of this form is called *damping*,\n",
    "and the coefficient $c$ is called the damping constant.\n",
    "\n",
    "**Exercise.**  Copy your original ``Pendulum1`` to the cell below, remove the code that calculates and displays the initial and final energies (since we no longer expect energy to be conserved).  Then add a damping term to the lines that compute **alpha** and **alphaMid**.  Run the program for various values of the damping constant, ranging up to about 2.0.  Describe the results briefly."
   ]
  },
  {
   "cell_type": "code",
   "execution_count": 13,
   "metadata": {},
   "outputs": [
    {
     "data": {
      "text/html": [
       "<div id=\"glowscript\" class=\"glowscript\"></div>"
      ],
      "text/plain": [
       "<IPython.core.display.HTML object>"
      ]
     },
     "metadata": {},
     "output_type": "display_data"
    },
    {
     "data": {
      "application/javascript": [
       "if (typeof Jupyter !== \"undefined\") { window.__context = { glowscript_container: $(\"#glowscript\").removeAttr(\"id\")};}else{ element.textContent = ' ';}"
      ],
      "text/plain": [
       "<IPython.core.display.Javascript object>"
      ]
     },
     "metadata": {},
     "output_type": "display_data"
    }
   ],
   "source": [
    "# pendulum 2\n",
    "\n",
    "from vpython import *\n",
    "\n",
    "# Constants\n",
    "g = 1.0  #gravity in natural units\n",
    "L = 1.0  # length natural units\n",
    "dt = 0.01  #time steps\n",
    "#c = 0.5  # damping constant\n",
    "\n",
    "\n",
    "# torque\n",
    "damp = 0.5  # damping \n",
    "driveAmp = 0.5  # driving amplitude\n",
    "driveFreq = 2/3  # driving frequency\n",
    "\n",
    "def torque(theta, omega, t):\n",
    "    return -g / L * sin(theta) - damp * omega + driveAmp * sin(driveFreq * t)\n",
    "\n",
    "\n",
    "\n",
    "# Create a canvas \n",
    "simulation_canvas = canvas(title='Pendulum Simulation with Damping',\n",
    "                           width=600, height=400,\n",
    "                           background=color.white)\n",
    "\n",
    "# Graph for plotting theta vs time\n",
    "theta_graph = graph(width=450, height=450, title='Theta vs Time', xtitle='t (s)', ytitle='theta (radians)')\n",
    "theta_plot = gdots(color=color.blue, interval=10)  # Set plotting interval to 10\n",
    "\n",
    "\n",
    "# Initial conditions\n",
    "theta = 0.2  \n",
    "omega = 0.0 \n",
    "t = 0 \n",
    "\n",
    "# Create pendulum \n",
    "pivot = vector(0, 0, 0)  # pivot point at the origin\n",
    "bob = sphere(pos=vector(L*sin(theta), -L*cos(theta), 0), radius=0.05, color=color.yellow)\n",
    "rod = cylinder(pos=pivot, axis=bob.pos - pivot, radius=0.02, color=color.white)\n",
    "stand = cylinder(pos=vector(0, 0, 0), axis=vector(0, -0.1, 0), radius=0.02, color=color.blue)\n",
    "\n",
    "\n",
    "\n",
    "# Define axes (x, y, z)\n",
    "axis_length = 1.5\n",
    "x_axis = arrow(pos=vector(0, 0, 0), axis=vector(axis_length, 0, 0), color=color.red, shaftwidth=0.02)\n",
    "y_axis = arrow(pos=vector(0, 0, 0), axis=vector(0, axis_length, 0), color=color.green, shaftwidth=0.02)\n",
    "z_axis = arrow(pos=vector(0, 0, 0), axis=vector(0, 0, axis_length), color=color.blue, shaftwidth=0.02)\n",
    "\n",
    "\n",
    "\n",
    "# Simulation loop\n",
    "while t <= 100:  # Changed from infinite loop to fixed time to make it more manageable\n",
    "    rate(100)  \n",
    "\n",
    "    \n",
    "    # Calculate angular acceleration using the torque function\n",
    "    alpha = torque(theta, omega, t)\n",
    "\n",
    "    \n",
    "    # Euler-Richardson method\n",
    "    mid_omega = omega + 0.5 * alpha * dt\n",
    "    mid_theta = theta + 0.5 * mid_omega * dt\n",
    "    mid_alpha = torque(mid_theta, mid_omega, t + 0.5 * dt)\n",
    "    \n",
    "    \n",
    "  \n",
    "    omega += mid_alpha * dt\n",
    "    theta += mid_omega * dt\n",
    "\n",
    "    \n",
    "    # Update positions\n",
    "    bob.pos = vector(L * sin(theta), -L * cos(theta), 0)\n",
    "    rod.axis = bob.pos - pivot\n",
    "\n",
    "    # Plot theta vs time\n",
    "    theta_plot.plot(t, theta)\n",
    "\n",
    "    t += dt\n",
    "\n",
    "# No energy calculations as energy is not conserved due to damping\n"
   ]
  },
  {
   "cell_type": "markdown",
   "metadata": {},
   "source": [
    "**Answers:**\n",
    "\n",
    "we can see two main results :\r\n",
    "\r\n",
    "1. desrceasing in th amplitude: \r\n",
    "Damping causes a rapid decrease in the amplitude of the pendum's oscillations, limitits swing height with each pass.\r\n",
    "\r\n",
    "2. Shortened Oscillation Duration: \r\n",
    "Higher damping constants make the pendulum to stop faster.\r\n",
    "\r\n"
   ]
  },
  {
   "cell_type": "markdown",
   "metadata": {},
   "source": [
    "Damping removes energy from the pendulum, so the motion dies out.  But we\n",
    "can keep the motion going by continually applying an external torque to the\n",
    "pendulum.  A simple yet interesting way to do this is to add a term to\n",
    "equation \\eqref{alphaWithDamping} that is sinusoidal in time:\n",
    "\\begin{equation}\n",
    "\\alpha = -{g\\over L}\\sin\\theta - c\\,\\omega + A\\sin(f t).\n",
    "\\label{alphaWithDrive}\n",
    "\\end{equation}\n",
    "This additional term is called a *driving* term.\n",
    "Physically, it would represent a smooth, back-and-forth twisting\n",
    "force, presumably applied at the pivot, that is unaffected by the pendulum's position and speed.  The\n",
    "constants $A$ and $f$ represent the amplitude and angular frequency of\n",
    "the driving torque.\n",
    "\n",
    "Because the Euler-Richardson algorithm requires two calculations of $\\alpha$\n",
    "(one at the beginning of the time interval and one at the middle), and \n",
    "because the formula for $\\alpha$ is getting rather complex, it's a good idea\n",
    "to move this calculation into a separate function.\n",
    "Let's call the function *torque*, which is the same as angular acceleration\n",
    "in our system of units.  This function should accept three parameters---\n",
    "$\\theta$, $\\omega$, and $t$---and return the value of the torque.   Assume that the constants **damp**, **driveAmp**, and **driveFreq** have already been defined. When you call the *torque* function from elsewhere in your program you can pass it any values you like for these three variables, and it will return the appropriate torque.\n",
    "\n",
    "**Exercise.** Add this function definition to the cell above. Use it\n",
    "appropriately each time your program computes the angular acceleration.\n",
    "(Be sure to pass the correct values to your *torque* function \n",
    "for the mid-point calculation!)\n",
    "Test your program with the damping constant equal to 0.5, the drive amplitude\n",
    "equal to 0.5, and the drive frequency equal to 2/3.   You should find that after an\n",
    "initial \"transient\" behavior, the motion becomes periodic.  What is the approximate period of the motion? "
   ]
  },
  {
   "cell_type": "markdown",
   "metadata": {},
   "source": [
    "**Answers:** \n",
    "\n",
    "By checking the graph of (\\theta) vs (t), we can see that the period is roughly 9.5 seconds.\r",
    " "
   ]
  },
  {
   "cell_type": "markdown",
   "metadata": {},
   "source": [
    "Again, in subsequent steps, make sure to **not modify** the last code cell. You will copy it to cells below and modify it, but we want to keep the current version intact since we will return to it. Let's call the program in the last code cell by the name ``Pendulum2``."
   ]
  },
  {
   "cell_type": "markdown",
   "metadata": {},
   "source": [
    "# Chaos!\n",
    "\n",
    "**Exercise.** Now increase the drive amplitude to 1.2, and run the program again\n",
    "(for about 100 time units).  Describe the behavior briefly."
   ]
  },
  {
   "cell_type": "markdown",
   "metadata": {},
   "source": [
    "**Answers:** \n",
    "\n",
    "With a drive amplitude of 1.2, the pendulum will experience much larger swings.\n",
    "\n",
    "there is a higher energy input which can overcome the damping effect more significantly than before, and allowing the pendulum to swing with a greater range.\n",
    "\n",
    "i did it by replace the constant in the last cell and run the code ."
   ]
  },
  {
   "cell_type": "markdown",
   "metadata": {},
   "source": [
    "When the drive amplitude is sufficiently large, the pendulum can swing\n",
    "over the top of the pivot and the motion becomes much more complex. In some\n",
    "cases, such as the one you just saw, the motion never settles down to become\n",
    "periodic.  Because the motion seems so unpredictable, the word \"chaos\"\n",
    "often comes to mind.\n",
    "\n",
    "**Chaos** is actually a technical term in dynamics, used to describe\n",
    "behavior that is unpredictable in practice because even a tiny change in the\n",
    "initial condition results in an exponentially increasing change in the motion.\n",
    "A good way to test for chaotic behavior is to run a simulation twice, with\n",
    "two slightly different initial conditions, and monitor the difference in the\n",
    "motion as a function of time.\n",
    "\n",
    "**Exercise.**  Make a copy of ``Pendulum2`` to the cell below.  Then modify it to simulate the\n",
    "motion of \\textit{two} damped, driven pendulums simultaneously.  Use two\n",
    "sets of variables for the two separate pendulums, and simulate both\n",
    "motions using a single **while** loop in your code.  Call the new variables **theta2**, **omega2**, and so on.  I'll refer to the angle of the original pendulum as $\\theta_1$.  In the 3D graphics space, put the second pendulum in front of the first, suspended from the same pivot.  Also add code to plot both $\\theta_1$ and $\\theta_2$ vs. time, using two different colors (it's a nice touch to use the same colors for the pendulums in the 3D graphics space that you use on the graph).  Use vpython plotting functions. Start one pendulum at $\\theta=0$ and the other at $\\theta=0.001$ (radians), with $\\omega=0$ initially for both, and run for about 200 units of time.  Use the same damping and driving constants as in the two previous exercises, and describe the results for both values of the driving amplitude.  Keep the more interesting of the two graphs."
   ]
  },
  {
   "cell_type": "code",
   "execution_count": 17,
   "metadata": {
    "scrolled": true
   },
   "outputs": [
    {
     "data": {
      "text/html": [
       "<div id=\"glowscript\" class=\"glowscript\"></div>"
      ],
      "text/plain": [
       "<IPython.core.display.HTML object>"
      ]
     },
     "metadata": {},
     "output_type": "display_data"
    },
    {
     "data": {
      "application/javascript": [
       "if (typeof Jupyter !== \"undefined\") { window.__context = { glowscript_container: $(\"#glowscript\").removeAttr(\"id\")};}else{ element.textContent = ' ';}"
      ],
      "text/plain": [
       "<IPython.core.display.Javascript object>"
      ]
     },
     "metadata": {},
     "output_type": "display_data"
    }
   ],
   "source": [
    "from vpython import *\n",
    "import math\n",
    "\n",
    "# Constants\n",
    "g = 1.0  \n",
    "L = 1.0  \n",
    "dt = 0.01  \n",
    "damp = 0.5  \n",
    "driveAmp = 1.2  \n",
    "driveFreq = 2/3  \n",
    "\n",
    "\n",
    "# function to calculate torque\n",
    "def torque(theta, omega, t):\n",
    "    return -g / L * sin(theta) - damp * omega + driveAmp * sin(driveFreq * t)\n",
    "\n",
    "\n",
    "# Create a canvas\n",
    "simulation_canvas = canvas(title='Dual Pendulum Simulation with Damping',\n",
    "                           width=600, height=400,\n",
    "                           background=color.white)\n",
    "\n",
    "\n",
    "# graph for plotting theta vs time\n",
    "theta_graph = graph(width=450, height=450, title='Theta vs Time', xtitle='t (s)', ytitle='theta (radians)')\n",
    "theta1_plot = gdots(graph=theta_graph, color=color.blue, interval=10)  # Set plotting interval for first pendulum\n",
    "theta2_plot = gdots(graph=theta_graph, color=color.red, interval=10)  # Set plotting interval for second pendulum\n",
    "\n",
    "theta_diff_log_graph = graph(width=450, height=450, title='Log of Angle Difference vs Time', xtitle='Time (s)', ytitle='ln|theta1 - theta2|')\n",
    "log_diff_plot = gdots(graph=theta_diff_log_graph, color=color.green, interval=10)\n",
    "\n",
    "\n",
    "\n",
    "# Initial conditions for pendulums \n",
    "theta1 = 0.001  #  angle \n",
    "omega1 = 0.0  #  angular velocity\n",
    "\n",
    "theta2 = 0.0  #  angle\n",
    "omega2 = 0.0  # angular velocity\n",
    "\n",
    "t = 0  # start time\n",
    "\n",
    "\n",
    "# create pendulum \n",
    "pivot = vector(0, 0, 0)  # pivot point at the origin\n",
    "bob1 = sphere(pos=vector(L*sin(theta1), -L*cos(theta1), 0.1), radius=0.05, color=color.blue)  # offset in z for clarity\n",
    "rod1 = cylinder(pos=pivot, axis=bob1.pos - pivot, radius=0.02, color=color.blue)\n",
    "\n",
    "bob2 = sphere(pos=vector(L*sin(theta2), -L*cos(theta2), -0.1), radius=0.05, color=color.red)  # offset in z for clarity\n",
    "rod2 = cylinder(pos=pivot, axis=bob2.pos - pivot, radius=0.02, color=color.red)\n",
    "\n",
    "\n",
    "# define axes (x, y, z)\n",
    "axis_length = 1.5\n",
    "x_axis = arrow(pos=vector(0, 0, 0), axis=vector(axis_length, 0, 0), color=color.red, shaftwidth=0.02)\n",
    "y_axis = arrow(pos=vector(0, 0, 0), axis=vector(0, axis_length, 0), color=color.green, shaftwidth=0.02)\n",
    "z_axis = arrow(pos=vector(0, 0, 0), axis=vector(0, 0, axis_length), color=color.blue, shaftwidth=0.02)\n",
    "\n",
    "\n",
    "\n",
    "while t <= 200:  \n",
    "    rate(100)  \n",
    "    \n",
    "    # calculate torque \n",
    "    alpha1 = torque(theta1, omega1, t)\n",
    "    alpha2 = torque(theta2, omega2, t)\n",
    "    \n",
    "    # update angular velocity and angle\n",
    "    mid_omega1 = omega1 + 0.5 * alpha1 * dt\n",
    "    mid_theta1 = theta1 + 0.5 * mid_omega1 * dt\n",
    "    mid_alpha1 = torque(mid_theta1, mid_omega1, t + 0.5 * dt)\n",
    "    \n",
    "    mid_omega2 = omega2 + 0.5 * alpha2 * dt\n",
    "    mid_theta2 = theta2 + 0.5 * mid_omega2 * dt\n",
    "    mid_alpha2 = torque(mid_theta2, mid_omega2, t + 0.5 * dt)\n",
    "    \n",
    "    omega1 += mid_alpha1 * dt\n",
    "    theta1 += mid_omega1 * dt\n",
    "    omega2 += mid_alpha2 * dt\n",
    "    theta2 += mid_omega2 * dt\n",
    "\n",
    "\n",
    "    # log of absolute difference between theta1 and theta2\n",
    "    log_diff = math.log(abs(theta1 - theta2))\n",
    "    \n",
    "    \n",
    "    # update positions\n",
    "    bob1.pos = vector(L*sin(theta1), -L*cos(theta1), 0.1)\n",
    "    rod1.axis = bob1.pos - pivot\n",
    "    bob2.pos = vector(L*sin(theta2), -L*cos(theta2), -0.1)\n",
    "    rod2.axis = bob2.pos - pivot\n",
    "\n",
    "    # Ploting theta vs time\n",
    "    theta1_plot.plot(t, theta1)\n",
    "    theta2_plot.plot(t, theta2)\n",
    "    log_diff_plot.plot(t, log_diff)\n",
    "\n",
    "    \n",
    "    # increment time\n",
    "    t += dt\n"
   ]
  },
  {
   "cell_type": "markdown",
   "metadata": {},
   "source": [
    "**Exercise.** To better see how the motions of the two pendulums relate to each other,\n",
    "modify the last cell to produce a second graph, plotting $\\ln|\\theta_2-\\theta_1|$ vs. $t$.  The python function for the natural logarithm is\n",
    "*math.log*.  Run your program using the same constants as before, including both values\n",
    "(0.5 and 1.2) of the drive amplitude.  This time it should suffice to run for about 80 units of time.  Discuss the results in some detail in the cell below.  Why do both plots have several \n",
    "downward-pointing spikes?"
   ]
  },
  {
   "cell_type": "markdown",
   "metadata": {},
   "source": [
    "**Answers:**\n",
    "\n",
    "for drive ampiltude = 0.5, its look like there is no a diffrent between the pendulums, not make a chaotic behavior . \n",
    "\n",
    "and for for drive amplitude = 1.2 , we can see a chaotic behavior as t become larger,\n",
    "Sharp spikes in the log plot indicate about the moments where the pendulums paths cross or where one pendulum catches up with the other. A steady decrease show synchronization between the pendulums, whereas increased fluctuations indicate chaotic behavior."
   ]
  },
  {
   "cell_type": "markdown",
   "metadata": {},
   "source": [
    "# When is the motion chaotic?\n",
    "\n",
    "So far you have explored the motion of the damped and driven pendulum for only two sets of damping and driving parameters---one that produces chaotic behavior and one that doesn't.  Your final task will be to map out in more detail which conditions produce chaos.\n",
    "\n",
    "In principle you could vary the damping constant, the driving frequency, *and* the driving amplitude---but thoroughly exploring that three-parameter space would take a long time.  Instead, you will keep the damping constant and the driving frequency fixed at the same values as before, and vary only the driving amplitude.\n",
    "\n",
    "**Exercise.** Copy the ``Pendulum3`` program (which simulates only a single damped and driven pendulum) to the cell below, change the simulation loop to run indefinitely, but add a GUI button to pause and resume the simulation.  Then add a slider to adjust the driving amplitude to any value between 0 and 2.0, in increments of 0.01.  Be sure to create a numerical readout for the slider.  Test these controls to make sure they work."
   ]
  },
  {
   "cell_type": "code",
   "execution_count": 1,
   "metadata": {},
   "outputs": [
    {
     "data": {
      "text/html": [
       "<div id=\"glowscript\" class=\"glowscript\"></div>"
      ],
      "text/plain": [
       "<IPython.core.display.HTML object>"
      ]
     },
     "metadata": {},
     "output_type": "display_data"
    },
    {
     "data": {
      "application/javascript": [
       "if (typeof Jupyter !== \"undefined\") { window.__context = { glowscript_container: $(\"#glowscript\").removeAttr(\"id\")};}else{ element.textContent = ' ';}"
      ],
      "text/plain": [
       "<IPython.core.display.Javascript object>"
      ]
     },
     "metadata": {},
     "output_type": "display_data"
    },
    {
     "data": {
      "text/html": [
       "<div id=\"glowscript\" class=\"glowscript\"></div>"
      ],
      "text/plain": [
       "<IPython.core.display.HTML object>"
      ]
     },
     "metadata": {},
     "output_type": "display_data"
    },
    {
     "data": {
      "application/javascript": [
       "if (typeof Jupyter !== \"undefined\") { window.__context = { glowscript_container: $(\"#glowscript\").removeAttr(\"id\")};}else{ element.textContent = ' ';}"
      ],
      "text/plain": [
       "<IPython.core.display.Javascript object>"
      ]
     },
     "metadata": {},
     "output_type": "display_data"
    },
    {
     "ename": "AttributeError",
     "evalue": "'button' object has no attribute 'handle_event'",
     "output_type": "error",
     "traceback": [
      "\u001b[1;31m---------------------------------------------------------------------------\u001b[0m",
      "\u001b[1;31mAttributeError\u001b[0m                            Traceback (most recent call last)",
      "Cell \u001b[1;32mIn[1], line 66\u001b[0m\n\u001b[0;32m     64\u001b[0m \u001b[38;5;66;03m# Euler Richardson method for updating the pendulum's motion\u001b[39;00m\n\u001b[0;32m     65\u001b[0m \u001b[38;5;28;01mwhile\u001b[39;00m \u001b[38;5;28;01mTrue\u001b[39;00m:\n\u001b[1;32m---> 66\u001b[0m     rate(\u001b[38;5;241m100\u001b[39m)\n\u001b[0;32m     67\u001b[0m     \u001b[38;5;28;01mif\u001b[39;00m running:\n\u001b[0;32m     68\u001b[0m         alpha \u001b[38;5;241m=\u001b[39m torque(theta, omega, t)  \u001b[38;5;66;03m# Compute torque\u001b[39;00m\n",
      "File \u001b[1;32m~\\anaconda3\\Lib\\site-packages\\vpython\\rate_control.py:266\u001b[0m, in \u001b[0;36m_RateKeeper2.__call__\u001b[1;34m(self, N)\u001b[0m\n\u001b[0;32m    264\u001b[0m \u001b[38;5;28mself\u001b[39m\u001b[38;5;241m.\u001b[39mrval \u001b[38;5;241m=\u001b[39m N\n\u001b[0;32m    265\u001b[0m \u001b[38;5;28;01mif\u001b[39;00m \u001b[38;5;28mself\u001b[39m\u001b[38;5;241m.\u001b[39mrval \u001b[38;5;241m<\u001b[39m \u001b[38;5;241m1\u001b[39m: \u001b[38;5;28;01mraise\u001b[39;00m \u001b[38;5;167;01mValueError\u001b[39;00m(\u001b[38;5;124m\"\u001b[39m\u001b[38;5;124mrate value must be greater than or equal to 1\u001b[39m\u001b[38;5;124m\"\u001b[39m)\n\u001b[1;32m--> 266\u001b[0m \u001b[38;5;28msuper\u001b[39m(_RateKeeper2, \u001b[38;5;28mself\u001b[39m)\u001b[38;5;241m.\u001b[39m\u001b[38;5;21m__call__\u001b[39m(\u001b[38;5;28mself\u001b[39m\u001b[38;5;241m.\u001b[39mrval)\n",
      "File \u001b[1;32m~\\anaconda3\\Lib\\site-packages\\vpython\\rate_control.py:210\u001b[0m, in \u001b[0;36mRateKeeper.__call__\u001b[1;34m(self, maxRate)\u001b[0m\n\u001b[0;32m    208\u001b[0m \u001b[38;5;28;01mwhile\u001b[39;00m \u001b[38;5;28;01mTrue\u001b[39;00m:\n\u001b[0;32m    209\u001b[0m     renders \u001b[38;5;241m+\u001b[39m\u001b[38;5;241m=\u001b[39m \u001b[38;5;241m1\u001b[39m\n\u001b[1;32m--> 210\u001b[0m     \u001b[38;5;28mself\u001b[39m\u001b[38;5;241m.\u001b[39mcallInteract()\n\u001b[0;32m    211\u001b[0m     \u001b[38;5;28mself\u001b[39m\u001b[38;5;241m.\u001b[39mrenderIndex \u001b[38;5;241m+\u001b[39m\u001b[38;5;241m=\u001b[39m \u001b[38;5;241m1\u001b[39m\n\u001b[0;32m    212\u001b[0m     \u001b[38;5;28;01mif\u001b[39;00m \u001b[38;5;28mself\u001b[39m\u001b[38;5;241m.\u001b[39mwhenToRender[\u001b[38;5;28mself\u001b[39m\u001b[38;5;241m.\u001b[39mrenderIndex] \u001b[38;5;241m==\u001b[39m \u001b[38;5;28mself\u001b[39m\u001b[38;5;241m.\u001b[39mrateCount:\n",
      "File \u001b[1;32m~\\anaconda3\\Lib\\site-packages\\vpython\\rate_control.py:111\u001b[0m, in \u001b[0;36mRateKeeper.callInteract\u001b[1;34m(self)\u001b[0m\n\u001b[0;32m    109\u001b[0m \u001b[38;5;28;01mdef\u001b[39;00m \u001b[38;5;21mcallInteract\u001b[39m(\u001b[38;5;28mself\u001b[39m):\n\u001b[0;32m    110\u001b[0m     t \u001b[38;5;241m=\u001b[39m _clock()\n\u001b[1;32m--> 111\u001b[0m     \u001b[38;5;28mself\u001b[39m\u001b[38;5;241m.\u001b[39minteractFunc()\n\u001b[0;32m    112\u001b[0m     dt \u001b[38;5;241m=\u001b[39m _clock() \u001b[38;5;241m-\u001b[39m t\n\u001b[0;32m    113\u001b[0m     \u001b[38;5;28;01mif\u001b[39;00m \u001b[38;5;28mself\u001b[39m\u001b[38;5;241m.\u001b[39mcount \u001b[38;5;241m==\u001b[39m \u001b[38;5;241m1\u001b[39m: \u001b[38;5;28mself\u001b[39m\u001b[38;5;241m.\u001b[39mrenderTime \u001b[38;5;241m=\u001b[39m \u001b[38;5;241m0.005\u001b[39m \u001b[38;5;66;03m# first value is abnormal; make small nonzero\u001b[39;00m\n",
      "File \u001b[1;32m~\\anaconda3\\Lib\\site-packages\\vpython\\rate_control.py:261\u001b[0m, in \u001b[0;36m_RateKeeper2.sendtofrontend\u001b[1;34m(self)\u001b[0m\n\u001b[0;32m    258\u001b[0m \u001b[38;5;28;01mfor\u001b[39;00m m \u001b[38;5;129;01min\u001b[39;00m d:\n\u001b[0;32m    259\u001b[0m     \u001b[38;5;66;03m# Must send events one at a time to GW.handle_msg because bound events need the loop code:\u001b[39;00m\n\u001b[0;32m    260\u001b[0m     msg \u001b[38;5;241m=\u001b[39m {\u001b[38;5;124m'\u001b[39m\u001b[38;5;124mcontent\u001b[39m\u001b[38;5;124m'\u001b[39m:{\u001b[38;5;124m'\u001b[39m\u001b[38;5;124mdata\u001b[39m\u001b[38;5;124m'\u001b[39m:[m]}} \u001b[38;5;66;03m# message format used by notebook\u001b[39;00m\n\u001b[1;32m--> 261\u001b[0m     \u001b[38;5;28mself\u001b[39m\u001b[38;5;241m.\u001b[39m_sender(msg)\n",
      "File \u001b[1;32m~\\anaconda3\\Lib\\site-packages\\vpython\\rate_control.py:236\u001b[0m, in \u001b[0;36mmessage_send_wrapper.<locals>.message_sender\u001b[1;34m(msg)\u001b[0m\n\u001b[0;32m    235\u001b[0m \u001b[38;5;28;01mdef\u001b[39;00m \u001b[38;5;21mmessage_sender\u001b[39m(msg):\n\u001b[1;32m--> 236\u001b[0m     baseObj\u001b[38;5;241m.\u001b[39mglow\u001b[38;5;241m.\u001b[39mhandle_msg(msg)\n",
      "File \u001b[1;32m~\\anaconda3\\Lib\\site-packages\\vpython\\vpython.py:423\u001b[0m, in \u001b[0;36mGlowWidget.handle_msg\u001b[1;34m(self, msg)\u001b[0m\n\u001b[0;32m    421\u001b[0m     \u001b[38;5;28;01mif\u001b[39;00m \u001b[38;5;124m'\u001b[39m\u001b[38;5;124mtrigger\u001b[39m\u001b[38;5;124m'\u001b[39m \u001b[38;5;129;01mnot\u001b[39;00m \u001b[38;5;129;01min\u001b[39;00m evt:\n\u001b[0;32m    422\u001b[0m         cvs \u001b[38;5;241m=\u001b[39m baseObj\u001b[38;5;241m.\u001b[39mobject_registry[evt[\u001b[38;5;124m'\u001b[39m\u001b[38;5;124mcanvas\u001b[39m\u001b[38;5;124m'\u001b[39m]]\n\u001b[1;32m--> 423\u001b[0m         cvs\u001b[38;5;241m.\u001b[39mhandle_event(evt)\n\u001b[0;32m    424\u001b[0m \u001b[38;5;28;01mif\u001b[39;00m _isnotebook:\n\u001b[0;32m    425\u001b[0m     baseObj\u001b[38;5;241m.\u001b[39mtrigger()\n",
      "\u001b[1;31mAttributeError\u001b[0m: 'button' object has no attribute 'handle_event'"
     ]
    }
   ],
   "source": [
    "\n",
    "from vpython import *\n",
    "from math import pi \n",
    "\n",
    "g = 1.0  \n",
    "L = 1.0  \n",
    "dt = 0.01  \n",
    "damp = 0.5  \n",
    "driveFreq = 2/3 \n",
    "driveAmp = 1.2  \n",
    "\n",
    "# function to calculate torque\n",
    "def torque(theta, omega, t):\n",
    "    return -g / L * sin(theta) - damp * omega + driveAmp * sin(driveFreq * t)\n",
    "\n",
    "# create the canvas\n",
    "scene = canvas(title='Pendulum Simulation with Phase Space', width=600, height=400, background=color.white)\n",
    "phase_space_graph = graph(width=450, height=450, title='Phase Space: Omega vs Theta', xtitle='Theta (radians)', ytitle='Omega (radians/s)', xmin=-pi, xmax=pi)\n",
    "phase_space_plot = gdots(graph=phase_space_graph, color=color.blue, size=1, interval=10)\n",
    "\n",
    "# define axes (x, y, z)\n",
    "axis_length = 1.5\n",
    "x_axis = arrow(pos=vector(0, 0, 0), axis=vector(axis_length, 0, 0), color=color.red, shaftwidth=0.02)\n",
    "y_axis = arrow(pos=vector(0, 0, 0), axis=vector(0, axis_length, 0), color=color.green, shaftwidth=0.02)\n",
    "z_axis = arrow(pos=vector(0, 0, 0), axis=vector(0, 0, axis_length), color=color.blue, shaftwidth=0.02)\n",
    "\n",
    "# Initial conditions\n",
    "theta = 0.2\n",
    "omega = 0.0\n",
    "t = 0\n",
    "\n",
    "# Pendulum setup\n",
    "pivot = vector(0, 0, 0)\n",
    "bob = sphere(pos=vector(L*sin(theta), -L*cos(theta), 0), radius=0.05, color=color.yellow)\n",
    "rod = cylinder(pos=pivot, axis=bob.pos - pivot, radius=0.02, color=color.white)\n",
    "\n",
    "# Control variables\n",
    "running = True\n",
    "\n",
    "# Function to control the running/pausing of the simulation\n",
    "def Run(b):\n",
    "    global running\n",
    "    running = not running\n",
    "    b.text = 'Run' if not running else 'Pause'\n",
    "\n",
    "# Button to pause\\resume \n",
    "pause_btn = button(text='Pause', pos=scene.title_anchor, bind=Run)\n",
    "\n",
    "# Function to clear the plot\n",
    "def clear_plot(b):\n",
    "    phase_space_plot.delete()\n",
    "\n",
    "# Button to clear the plot\n",
    "clear_btn = button(text='clear plot', pos=scene.title_anchor, bind=clear_plot)\n",
    "\n",
    "# Slider to adjust the driving amplitude\n",
    "def adjust_drive_amplitude(slider):\n",
    "    global driveAmp\n",
    "    driveAmp = slider.value\n",
    "    wtext.text = f'Drive Amplitude: {driveAmp:.2f}'\n",
    "\n",
    "amplitude_slider = slider(min=0, max=2.0, value=1.2, step=0.01, bind=adjust_drive_amplitude)\n",
    "wtext = wtext(text=f'Drive Amplitude: {driveAmp:.2f}')\n",
    "\n",
    "# Euler Richardson method for updating the pendulum's motion\n",
    "while True:\n",
    "    rate(100)\n",
    "    if running:\n",
    "        alpha = torque(theta, omega, t)  # Compute torque\n",
    "        mid_omega = omega + 0.5 * alpha * dt\n",
    "        mid_theta = theta + 0.5 * mid_omega * dt\n",
    "        mid_alpha = torque(mid_theta, mid_omega, t + 0.5 * dt)\n",
    "        omega += mid_alpha * dt\n",
    "        theta += mid_omega * dt\n",
    "\n",
    "        # we nee to keep theta between (-pi) to (pi)\n",
    "        if theta > pi:\n",
    "            theta -= 2 * pi\n",
    "        elif theta < -pi:\n",
    "            theta += 2 * pi\n",
    "\n",
    "        bob.pos = vector(L * sin(theta), -L * cos(theta), 0)\n",
    "        rod.axis = bob.pos - pivot\n",
    "\n",
    "        # Update phase space plot\n",
    "        phase_space_plot.plot(theta, omega)\n",
    "        t += dt\n"
   ]
  },
  {
   "cell_type": "markdown",
   "metadata": {},
   "source": [
    "**Exercise.** Change the graph in the last cell to plot $\\omega$ vertically vs. $\\theta$ horizontally, instead of $\\theta$ vs. $t$.  This new graph is called a *phase space plot*.  Use the **xmin** and **xmax** parameters of the *graph* function to set the horizontal scale on the graph to run from $-\\pi$ to $+\\pi$, and then, in your simulation loop, insert some *if* statements to shift $\\theta$ by $2\\pi$ whenever necessary to keep it within the range of the graph.  (This doesn't affect the physics, because changing an angle by $2\\pi$ doesn't really change it.)  Set the **size** parameter of the **gdots** object to 1, and adjust the plotting interval to compromise between a more complete plot and a reasonable execution speed.  Finally, add another GUI button to the program that clears all dots from the plot, by calling the *delete* function of your **gdots** object.  Again, test everything to make sure it works.\n",
    "\n",
    "**Exercise.**  Run your simulation and systematically explore what happens as the drive amplitude increases from 0 to 2.  For some settings the motion will settle into a repeating pattern (once any \"transient\" behavior has died out), while for others it will be chaotic, never exactly repeating itself.  Write code to print a few of the more interesting phase space plots, being sure to label them with the drive amplitude settings.  Describe the motion in words for each of these cases.  Also, in the space below, make a list of the drive amplitude values for which the motion is chaotic. "
   ]
  },
  {
   "cell_type": "code",
   "execution_count": 27,
   "metadata": {},
   "outputs": [
    {
     "data": {
      "text/html": [
       "<div id=\"glowscript\" class=\"glowscript\"></div>"
      ],
      "text/plain": [
       "<IPython.core.display.HTML object>"
      ]
     },
     "metadata": {},
     "output_type": "display_data"
    },
    {
     "data": {
      "application/javascript": [
       "if (typeof Jupyter !== \"undefined\") { window.__context = { glowscript_container: $(\"#glowscript\").removeAttr(\"id\")};}else{ element.textContent = ' ';}"
      ],
      "text/plain": [
       "<IPython.core.display.Javascript object>"
      ]
     },
     "metadata": {},
     "output_type": "display_data"
    },
    {
     "data": {
      "text/html": [
       "<div id=\"glowscript\" class=\"glowscript\"></div>"
      ],
      "text/plain": [
       "<IPython.core.display.HTML object>"
      ]
     },
     "metadata": {},
     "output_type": "display_data"
    },
    {
     "data": {
      "application/javascript": [
       "if (typeof Jupyter !== \"undefined\") { window.__context = { glowscript_container: $(\"#glowscript\").removeAttr(\"id\")};}else{ element.textContent = ' ';}"
      ],
      "text/plain": [
       "<IPython.core.display.Javascript object>"
      ]
     },
     "metadata": {},
     "output_type": "display_data"
    },
    {
     "data": {
      "text/html": [
       "<div id=\"glowscript\" class=\"glowscript\"></div>"
      ],
      "text/plain": [
       "<IPython.core.display.HTML object>"
      ]
     },
     "metadata": {},
     "output_type": "display_data"
    },
    {
     "data": {
      "application/javascript": [
       "if (typeof Jupyter !== \"undefined\") { window.__context = { glowscript_container: $(\"#glowscript\").removeAttr(\"id\")};}else{ element.textContent = ' ';}"
      ],
      "text/plain": [
       "<IPython.core.display.Javascript object>"
      ]
     },
     "metadata": {},
     "output_type": "display_data"
    },
    {
     "data": {
      "text/html": [
       "<div id=\"glowscript\" class=\"glowscript\"></div>"
      ],
      "text/plain": [
       "<IPython.core.display.HTML object>"
      ]
     },
     "metadata": {},
     "output_type": "display_data"
    },
    {
     "data": {
      "application/javascript": [
       "if (typeof Jupyter !== \"undefined\") { window.__context = { glowscript_container: $(\"#glowscript\").removeAttr(\"id\")};}else{ element.textContent = ' ';}"
      ],
      "text/plain": [
       "<IPython.core.display.Javascript object>"
      ]
     },
     "metadata": {},
     "output_type": "display_data"
    },
    {
     "data": {
      "text/html": [
       "<div id=\"glowscript\" class=\"glowscript\"></div>"
      ],
      "text/plain": [
       "<IPython.core.display.HTML object>"
      ]
     },
     "metadata": {},
     "output_type": "display_data"
    },
    {
     "data": {
      "application/javascript": [
       "if (typeof Jupyter !== \"undefined\") { window.__context = { glowscript_container: $(\"#glowscript\").removeAttr(\"id\")};}else{ element.textContent = ' ';}"
      ],
      "text/plain": [
       "<IPython.core.display.Javascript object>"
      ]
     },
     "metadata": {},
     "output_type": "display_data"
    },
    {
     "data": {
      "text/html": [
       "<div id=\"glowscript\" class=\"glowscript\"></div>"
      ],
      "text/plain": [
       "<IPython.core.display.HTML object>"
      ]
     },
     "metadata": {},
     "output_type": "display_data"
    },
    {
     "data": {
      "application/javascript": [
       "if (typeof Jupyter !== \"undefined\") { window.__context = { glowscript_container: $(\"#glowscript\").removeAttr(\"id\")};}else{ element.textContent = ' ';}"
      ],
      "text/plain": [
       "<IPython.core.display.Javascript object>"
      ]
     },
     "metadata": {},
     "output_type": "display_data"
    },
    {
     "data": {
      "text/html": [
       "<div id=\"glowscript\" class=\"glowscript\"></div>"
      ],
      "text/plain": [
       "<IPython.core.display.HTML object>"
      ]
     },
     "metadata": {},
     "output_type": "display_data"
    },
    {
     "data": {
      "application/javascript": [
       "if (typeof Jupyter !== \"undefined\") { window.__context = { glowscript_container: $(\"#glowscript\").removeAttr(\"id\")};}else{ element.textContent = ' ';}"
      ],
      "text/plain": [
       "<IPython.core.display.Javascript object>"
      ]
     },
     "metadata": {},
     "output_type": "display_data"
    },
    {
     "data": {
      "text/html": [
       "<div id=\"glowscript\" class=\"glowscript\"></div>"
      ],
      "text/plain": [
       "<IPython.core.display.HTML object>"
      ]
     },
     "metadata": {},
     "output_type": "display_data"
    },
    {
     "data": {
      "application/javascript": [
       "if (typeof Jupyter !== \"undefined\") { window.__context = { glowscript_container: $(\"#glowscript\").removeAttr(\"id\")};}else{ element.textContent = ' ';}"
      ],
      "text/plain": [
       "<IPython.core.display.Javascript object>"
      ]
     },
     "metadata": {},
     "output_type": "display_data"
    },
    {
     "data": {
      "text/html": [
       "<div id=\"glowscript\" class=\"glowscript\"></div>"
      ],
      "text/plain": [
       "<IPython.core.display.HTML object>"
      ]
     },
     "metadata": {},
     "output_type": "display_data"
    },
    {
     "data": {
      "application/javascript": [
       "if (typeof Jupyter !== \"undefined\") { window.__context = { glowscript_container: $(\"#glowscript\").removeAttr(\"id\")};}else{ element.textContent = ' ';}"
      ],
      "text/plain": [
       "<IPython.core.display.Javascript object>"
      ]
     },
     "metadata": {},
     "output_type": "display_data"
    }
   ],
   "source": [
    "# answer the question of : Write code to print a few of the more interesting phase space plots,\n",
    "# being sure to label them with the drive amplitude settings. Describe the motion in words for each of these cases.\n",
    "# Also, in the space below, make a list of the drive amplitude values for which the motion is chaotic.\n",
    "\n",
    "# the place of this code i attached. \n",
    "\n",
    "from vpython import *\n",
    "\n",
    "def run_pendulum_simulation(driveAmp):\n",
    "    # Constants\n",
    "    g = 1.0  # gravity in natural units\n",
    "    L = 1.0  # length in natural units\n",
    "    dt = 0.01  # time step\n",
    "    damp = 0.5  # damping constant\n",
    "    driveFreq = 2/3  # driving frequency\n",
    "    \n",
    "    # Create the canvas \n",
    "    scene = canvas(title=f'Pendulum Simulation with Phase Space at drive amplitude {driveAmp}', width=600, height=400, background=color.white)\n",
    "    phase_space_graph = graph(width=450, height=450, title='Phase Space: Omega vs Theta', xtitle='Theta (radians)', ytitle='Omega (radians/s)', xmin=-pi, xmax=pi)\n",
    "    phase_space_plot = gdots(graph=phase_space_graph, color=color.blue, size=1, interval=10)\n",
    "    \n",
    "    # Initial conditions\n",
    "    theta = 0.2\n",
    "    omega = 0.0\n",
    "    t = 0\n",
    "\n",
    "    \n",
    "    # pendulum setup\n",
    "    pivot = vector(0, 0, 0)\n",
    "    bob = sphere(pos=vector(L*sin(theta), -L*cos(theta), 0), radius=0.05, color=color.yellow)\n",
    "    rod = cylinder(pos=pivot, axis=bob.pos - pivot, radius=0.02, color=color.white)\n",
    "\n",
    "    \n",
    "    # torque function\n",
    "    def torque(theta, omega, t):\n",
    "        return -g / L * sin(theta) - damp * omega + driveAmp * sin(driveFreq * t)\n",
    "    \n",
    "    # Simulation loop\n",
    "    while t <= 20:  # Simulation time constraint for clarity and performance\n",
    "        rate(100)\n",
    "        alpha = torque(theta, omega, t)\n",
    "        mid_omega = omega + 0.5 * alpha * dt\n",
    "        mid_theta = theta + 0.5 * mid_omega * dt\n",
    "        mid_alpha = torque(mid_theta, mid_omega, t + 0.5 * dt)\n",
    "        \n",
    "        omega += mid_alpha * dt\n",
    "        theta += mid_omega * dt\n",
    "        \n",
    "        if theta > pi:\n",
    "            theta -= 2 * pi\n",
    "        elif theta < -pi:\n",
    "            theta += 2 * pi\n",
    "        \n",
    "        bob.pos = vector(L * sin(theta), -L * cos(theta), 0)\n",
    "        rod.axis = bob.pos - pivot\n",
    "        \n",
    "        phase_space_plot.plot(theta, omega)\n",
    "        t += dt\n",
    "\n",
    "    \n",
    "    scene.delete()\n",
    "\n",
    "# Run simulations with different drive amplitudes values \n",
    "for amp in [0,0.3,0.6,0.9 ,1 ,1.3 ,1.6,1.85, 2]:  \n",
    "    run_pendulum_simulation(amp)\n"
   ]
  },
  {
   "cell_type": "markdown",
   "metadata": {},
   "source": [
    "**Answers:** \n",
    "so we can to recap :\n",
    "\n",
    "* for Amplitude 0, 0.3, 0.6, 0.9 :\n",
    "\n",
    "Description: The plot shows a single, small, closed loop centered around the origin, indicating a stable, periodic motion with low energy.\n",
    "we can se when the amplitude is bigger than 0.6 the energy is higer and more remarkable.\n",
    "Type: Periodic\n",
    "\n",
    "\n",
    "* for Amplitude 1, 1.2 , 1.5 ,1.8 ,2 :\n",
    "  \n",
    "Description: The phase space plot is densely filled, with trajectories covering a wide area without repeating patterns, with high \n",
    "energy.\n",
    "Type: Chaotic\n",
    "\n",
    "**we can to conclude in generally, when drive amplitude is bigger than 1,so the motion is become chaotic.**\n"
   ]
  },
  {
   "cell_type": "markdown",
   "metadata": {},
   "source": [
    "Congratulations---you're now finished with this project!  Please turn in the filled notebook file."
   ]
  }
 ],
 "metadata": {
  "kernelspec": {
   "display_name": "Python 3 (ipykernel)",
   "language": "python",
   "name": "python3"
  },
  "language_info": {
   "codemirror_mode": {
    "name": "ipython",
    "version": 3
   },
   "file_extension": ".py",
   "mimetype": "text/x-python",
   "name": "python",
   "nbconvert_exporter": "python",
   "pygments_lexer": "ipython3",
   "version": "3.11.7"
  },
  "latex_metadata": {
   "affiliation": "Tel Aviv University",
   "author": "Yoel Shkkolnisky and Haim Avron",
   "title": "Workshop - Project 3: Pendulum"
  }
 },
 "nbformat": 4,
 "nbformat_minor": 4
}
