{
 "cells": [
  {
   "cell_type": "raw",
   "metadata": {},
   "source": [
    "\\newcommand{\\spn}[1]{{\\bf spn}\\{#1\\}}\n",
    "\\newcommand{\\range}[1]{{\\bf range}(#1)}\n",
    "\\newcommand{\\rank}[1]{{\\bf rank}(#1)}\n",
    "\\newcommand{\\trace}[1]{{\\bf trace}(#1)}\n",
    "\\newcommand{\\Null}[1]{{\\bf null}(#1)}"
   ]
  },
  {
   "cell_type": "markdown",
   "metadata": {},
   "source": [
    "Adapted from *Physics Simulations in Python -- A Lab Manual*, by Daniel V. Schroeder, Department of Physics, Weber State University, http://physics.weber.edu/schroeder/scicomp/\n",
    "\n",
    "This work is licensed under the Creative Commons Attribution 4.0 International License.  To view a copy of this license, visit http://creativecommons.org/licenses/by/4.0/ or send a letter to Creative Commons, PO Box 1866, Mountain View, CA 94042, USA."
   ]
  },
  {
   "cell_type": "markdown",
   "metadata": {},
   "source": [
    "# Introduction\n",
    "\n",
    "You now know enough about VPython to write your first simulation program.\n",
    "\n",
    "The idea of a *simulation* is to program some system (such as a physical system following the laws of physics) into the\n",
    "computer, and then let the computer calculate what happens as a function of\n",
    "time, step by step into the future.  In this chapter, those our goal will be to predict the motion of\n",
    "one or more objects subject to various forces.  Simulations let us do this for\n",
    "*any* forces and *any* initial conditions, even when no explicit formula for the \n",
    "motion exists.\n",
    "\n",
    "In this project you'll simulate the motion of a projectile, first in one\n",
    "dimension and then in two dimensions.  When the motion is\n",
    "purely vertical, the state of the\n",
    "projectile is defined by its position, $y$, and its velocity,\n",
    "$v_y$.  These quantities are related by\n",
    "\\begin{equation}\n",
    "v_y = {dy\\over dt} \\approx {\\Delta y\\over \\Delta t} \n",
    "  = {y_{\\rm final} - y_{\\rm initial} \\over \\Delta t}.\n",
    "\\end{equation}\n",
    "In a computer simulation, we already know the current value of $y$ and want\n",
    "to predict the future value.  So let's solve this equation for $y_{\\rm final}$:\n",
    "\\begin{equation}\n",
    "y_{\\rm final} \\approx y_{\\rm initial} + v_y\\,\\Delta t.\n",
    "\\label{yFinal}\n",
    "\\end{equation}\n",
    "Similarly, we can predict the future value of $v_y$ if we know the current\n",
    "value as well as the acceleration:\n",
    "\\begin{equation}\n",
    "v_{y,\\rm final} \\approx v_{y,\\rm initial} + a_y\\,\\Delta t.\n",
    "\\label{vyFinal}\n",
    "\\end{equation}\n",
    "These equations are valid for any moving object.  For a projectile moving\n",
    "near earth's surface without air resistance, $a_y = -g$ (taking the $+y$\n",
    "direction to be upward).  In general, $a_y$ is given by Newton's second law,\n",
    "\\begin{equation}\n",
    "a_y = {\\sum F_y\\over m},\n",
    "\\label{NewtonsLaw}\n",
    "\\end{equation}\n",
    "where $m$ is the object's mass and the various forces can depend on $y$,\n",
    "$v_y$, or both.\n",
    "\n",
    "In a computer simulation of one-dimensional motion, the idea is to start with\n",
    "the state of the particle at $t=0$, then use \\eqref{yFinal} through \\eqref{NewtonsLaw} to calculate $y$ and $v_y$ at $t = \\Delta t$, then repeat the\n",
    "calculation for the next time interval, and the next, and so on.\n",
    "Fortunately, computers don't mind doing repetitive calculations.\n",
    "\n",
    "But there's one remaining issue to address before we try to program these\n",
    "equations into a computer.  Equation \\eqref{yFinal} is ambiguous regarding *which*\n",
    "value of $v_y$ appears on the right-hand side.  Should we use the initial value,\n",
    "or the final value, or some intermediate value?  In the limit $\\Delta t \\rightarrow 0$\n",
    "it wouldn't matter, but for any nonzero value of $\\Delta t$, some choices give\n",
    "more accurate results than others.  The easiest choice is to use the\n",
    "*initial* value of $v_y$, since we already know this value without any\n",
    "further computation.  Similarly, the simplest choice in \\eqref{vyFinal} is\n",
    "to use the initial value of $a_y$ on the right-hand side.\n",
    "\n",
    "With these choices, we can use the following Python code to simulate projectile motion\n",
    "in one dimension without air resistance:\n",
    "```\n",
    "    while y > 0:\n",
    "        ay = -g\n",
    "        y += vy * dt    # use old vy to calculate new y\n",
    "        vy += ay * dt   # use old ay to calculate new vy\n",
    "        t += dt\n",
    "```\n",
    "This simple procedure is called the *Euler algorithm*, after the\n",
    "mathematician Leonard Euler (pronounced \"oiler\"\").  As we'll see, it is only one \n",
    "of many algorithms that give correct results in the limit $\\Delta t\\rightarrow 0$.\n",
    "\n",
    "**Exercise.** In the cell below, write a program to simulate the motion of a dropped ball moving only in the vertical dimension, using the Euler algorithm as written in the code fragment above.  Represent the ball in the 3D graphics scene as a sphere with any reasonable radius (for display only---please ignore the radius in all physics calculations), and make a very shallow box at $y=0$ to represent the ground.  Use a light background color for eventual printing.  The ball should leave a trail of dots as it moves.  Be sure to put in the necessary code to initialize the variables (including **g**, putting all values in SI units), add a **rate** function inside the simulation loop, and update the ball's **pos** attribute during each loop iteration.  Also be sure to format your code to make it easy to read, with appropriate comments.  Use a time step (**dt**) of 0.1 second.  Start the ball at time zero with a height of 10 meters and a velocity of zero.  Notice that I've written the loop to terminate when the ball is no longer above $y=0$.  Test your program and make sure the animated motion looks reasonable."
   ]
  },
  {
   "cell_type": "code",
   "execution_count": 37,
   "metadata": {},
   "outputs": [
    {
     "data": {
      "text/html": [
       "<div id=\"glowscript\" class=\"glowscript\"></div>"
      ],
      "text/plain": [
       "<IPython.core.display.HTML object>"
      ]
     },
     "metadata": {},
     "output_type": "display_data"
    },
    {
     "data": {
      "application/javascript": [
       "if (typeof Jupyter !== \"undefined\") { window.__context = { glowscript_container: $(\"#glowscript\").removeAttr(\"id\")};}else{ element.textContent = ' ';}"
      ],
      "text/plain": [
       "<IPython.core.display.Javascript object>"
      ]
     },
     "metadata": {},
     "output_type": "display_data"
    },
    {
     "name": "stdout",
     "output_type": "stream",
     "text": [
      "Ball lands at t = 1.5000000000000002 seconds, with velocity -14.700000000000005 m/s\n"
     ]
    }
   ],
   "source": [
    "from vpython import *\n",
    "\n",
    "# Constants\n",
    "g = 9.8  # Acceleration due to gravity (m/s^2)\n",
    "dt = 0.1  # Time step \n",
    "t = 0  # Initial time\n",
    "y = 10  # Initial height (m)\n",
    "vy = 0  # Initial velocity \n",
    "\n",
    "# Create canvas\n",
    "scene = canvas(title='Falling Ball Simulation',\n",
    "               width=400,  # Reduced width for better focus\n",
    "               height=300,\n",
    "               center=vector(0, y/2, 0),  # Centering the view at half the initial height\n",
    "               background=color.white)\n",
    "\n",
    "# Create the ball\n",
    "ball = sphere(pos=vector(0, y, 0), radius=0.2, color=color.blue, make_trail=True, trail_type='points', interval=10)\n",
    "\n",
    "# Create the ground\n",
    "ground = box(pos=vector(0, 0, 0), size=vector(10, 0.05, 10), color=color.green)\n",
    "\n",
    "# Simulation loop\n",
    "while y > 0:\n",
    "    rate(10)\n",
    "    ay = -g\n",
    "    y += vy * dt    # use old vy to calculate new y\n",
    "    vy += ay * dt   # use old ay to calculate new vy\n",
    "    t += dt\n",
    "    ball.pos = vector(0,y,0)\n",
    "\n",
    "\n",
    "\n",
    "# Print the time of impact and the final velocity\n",
    "print(\"Ball lands at t =\", t, \"seconds, with velocity\", vy, \"m/s\")"
   ]
  },
  {
   "cell_type": "markdown",
   "metadata": {},
   "source": [
    "**Exercise.** Most of the space on your graphics canvas is wasted.  To fix this, in the previous code cell, set **scene.center** to half the ball's starting height (effectively pointing the \"camera\" at the middle of the trajectory), and set **scene.width** to 400 or less.\n",
    "\n",
    "**Exercise** Let's focus our attention on the *time* when the ball hits the ground, and on the *final velocity* upon impact.  To see the numerical values of these quantities, add the following line to the end of your program:\n",
    "```\n",
    "  print(\"Ball lands at t =\", t, \"seconds, with velocity\", vy, \"m/s\")\n",
    "```\n",
    "Here we're passing five successive parameters to the *print* function: three quoted strings that are always the same (called *literal* strings), and the two variables whose values we want to see.  If you look closely, you'll notice that the *print* function adds a space between successive items in the output.\n",
    "\n",
    "In simulation codes it is crucial to validate not only the correctness of the code, but also its accuracy. After all, we take numbers, do some calculations, and return numbers. How do we these are correct? How accurate is the results. Sometimes, there are cases that we can calculate the expected result by hand. \n",
    "\n",
    "**Exercise.** Calculate the exact values of landing time and velocity, and write them in the markdown cell below. Compare these values with the results of your simulation."
   ]
  },
  {
   "cell_type": "markdown",
   "metadata": {},
   "source": [
    "**Answers:** \n",
    "\n",
    "\r\n",
    "To find the time it takes for an object to fa,y, we use the equation of motion:\r\n",
    "\r\n",
    "$$ y = y_0 + v_{y0} \\cdot t + \\frac{1}{2} \\cdot g \\cdot t^2 $$\r\n",
    "\r\n",
    "Where:\r\n",
    "- \\( y_0 = 10 \\, \\text{m} \\) (initial height)\r\n",
    "- \\( v_{y0} = 0 \\, \\text{m/s} \\) (initial velocity)\r\n",
    "- \\( g = 9.8 \\, \\text{m/s}^2 \\) (acceleration due to gravity)\r\n",
    "\r\n",
    "We set the final position \\( y \\) to 0 (ground level), and solve for \\( t \\):\r\n",
    "\r\n",
    "$$ 0 = 10 + 0 \\cdot t - \\frac{1}{2} \\cdot 9.8 \\cdot t^2 $$\r\n",
    "$$ 0 = 10 - 4.9 \\cdot t^2 $$\r\n",
    "$$ 4.9 \\cdot t^2 = 10 $$\r\n",
    "$$ t^2 = \\frac{10}{4.9} $$\r\n",
    "$$ t = \\sqrt{\\frac{10}{4.9}} $$\r\n",
    "$$ t \\approx \\sqrt{2.04} $$\r\n",
    "$$ t \\approx 1.428 \\, This gives us the time it takes for the ball to hit the ground.\n",
    "\n",
    "\n",
    "t= 1.428 \n",
    "**lly&=-\\frac{1}{2}gt^{2}+10\n",
    "\\end{aligned}\n",
    "$$\n",
    "**"
   ]
  },
  {
   "cell_type": "markdown",
   "metadata": {},
   "source": [
    "**Exercise.** The time and velocity printed by your program do not apply at the \n",
    "instant when the ball reaches $y=0$, because that instant occurs somewhere\n",
    "in the middle of the final time interval.  Add some code after the end of the *while*\n",
    "loop to estimate the time when the ball actually reaches\n",
    "$y=0$.  (Hint:  Use the final values of **y** and **vy** to make your estimate.  The improved time \n",
    "estimate still won't be exact, but it will be much more accurate than what \n",
    "your program has been printing so far.)  Have the program print out the\n",
    "improved value of $t$ instead, as well as an improved estimate of the velocity \n",
    "at this time.  Write your code in the cell below (not in the old cell)."
   ]
  },
  {
   "cell_type": "code",
   "execution_count": 14,
   "metadata": {},
   "outputs": [
    {
     "data": {
      "text/html": [
       "<div id=\"glowscript\" class=\"glowscript\"></div>"
      ],
      "text/plain": [
       "<IPython.core.display.HTML object>"
      ]
     },
     "metadata": {},
     "output_type": "display_data"
    },
    {
     "data": {
      "application/javascript": [
       "if (typeof Jupyter !== \"undefined\") { window.__context = { glowscript_container: $(\"#glowscript\").removeAttr(\"id\")};}else{ element.textContent = ' ';}"
      ],
      "text/plain": [
       "<IPython.core.display.Javascript object>"
      ]
     },
     "metadata": {},
     "output_type": "display_data"
    },
    {
     "name": "stdout",
     "output_type": "stream",
     "text": [
      "Time of flight: 1.428566 s, Final velocity: -14.000049 m/s\n"
     ]
    }
   ],
   "source": [
    "from vpython import *\n",
    "\n",
    "def simulate_falling_ball():\n",
    "    # Constants\n",
    "    g = 9.8  # Acceleration due to gravity \n",
    "    t = 0  # Initial time\n",
    "    y = 10  # Initial height \n",
    "    vy = 0  # Initial vertical velocity (m/s)\n",
    "    dt = 1e-5  # Time step\n",
    "\n",
    "    # Create the canvas\n",
    "    scene = canvas(title='Falling Ball Simulation',\n",
    "                   width=400, height=300,\n",
    "                   center=vector(0, y/2, 0),\n",
    "                   background=color.white)\n",
    "    ball = sphere(pos=vector(0, y, 0), radius=0.2, color=color.blue, make_trail=True, trail_type='points', interval=int(1 / dt))\n",
    "    ground = box(pos=vector(0, 0, 0), size=vector(10, 0.05, 10), color=color.green)\n",
    "\n",
    "    prev_y = y\n",
    "    prev_t = t\n",
    "\n",
    "    while y > 0:\n",
    "        rate(1/dt)\n",
    "        prev_y = y\n",
    "        prev_t = t       \n",
    "        ay = -g\n",
    "        vy += ay * dt    # update velocity\n",
    "        y += vy * dt     # update position\n",
    "        ball.pos.y = y   # update ball's position in the environment\n",
    "        t += dt          # increment time\n",
    "\n",
    "    # when y<0 , we nee to calculate the v ata y=0\n",
    "    if y < 0:\n",
    "        t_land = prev_t + (0-prev_y)/(y-prev_y)*dt\n",
    "        vy_land = vy + ay*(t_land-prev_t)\n",
    "    else:              # if for some reason we got exactly y=0, there's no need for inderpolation\n",
    "        t_land = t\n",
    "        vy_land = vy\n",
    "\n",
    "    # Print the results of the simulation\n",
    "    print(f\"Time of flight: {t_land:.6f} s, Final velocity: {vy_land:.6f} m/s\")\n",
    "\n",
    "\n",
    "\n",
    "# usage\n",
    "simulate_falling_ball()  # Run the simulation\n",
    "\n"
   ]
  },
  {
   "cell_type": "markdown",
   "metadata": {},
   "source": [
    "**Exercise.** The inaccuracy caused by the nonzero size of **dt** is called\n",
    "*truncation error*.  You can reduce the size of the truncation error\n",
    "by making **dt** smaller.  Try it!  \n",
    "(You'll want to adjust the parameter of the *rate* function to make the program run faster when **dt** is small.  The slick way to do this is to make the parameter a *formula* that depends on **dt**. You'll also want to set the ball's **interval** attribute in a similar way, so the dot spacings are the same for any **dt**.)\n",
    "How small must **dt** be to give results that\n",
    "are accurate to four significant figures?  Justify your answer."
   ]
  },
  {
   "cell_type": "markdown",
   "metadata": {},
   "source": [
    "**Answers:** i did a loop for with differents \"dt\" variable, and as i see there is a start of convergent in the \"time of flight\" and in \"time velocity\" while we use at dt=1e-05\n"
   ]
  },
  {
   "cell_type": "markdown",
   "metadata": {},
   "source": [
    "# Air resistance\n",
    "\n",
    "There's not much point in writing a computer simulation when you\n",
    "can calculate the exact answer so easily.  So let's make the problem more difficult\n",
    "by adding some air resistance.  At normal speeds, the force of air resistance\n",
    "is approximately proportional to the *square* of the projectile's velocity.  \n",
    "This is because a faster projectile not only collides with *more* air\n",
    "molecules per unit time, but also imparts more momentum to each molecule it hits.  So\n",
    "we can write the magnitude of the air force as\n",
    "\\begin{equation}\n",
    "|\\vec F_{\\rm air}| = c|\\vec v|^2,  \n",
    "\\label{airForce}\n",
    "\\end{equation}\n",
    "for some constant $c$ that will depend on the size and shape of the object\n",
    "and the density of the air.\n",
    "The *direction* of the air force is always directly opposite to the direction\n",
    "of $\\vec v$ (at least for a symmetrical, nonspinning projectile).\n",
    "\n",
    "**Exercise.** Assuming that the motion is purely in the $y$ direction, write down\n",
    "a formula for the $y$ component of the air force, in terms of $v_y$.  \n",
    "Your formula should have the\n",
    "correct sign for *both* possible signs of $v_y$.  (Hint:  Use an absolute value\n",
    "function.) "
   ]
  },
  {
   "cell_type": "markdown",
   "metadata": {},
   "source": [
    "**Answer:** \r\n",
    "\r\n",
    "$$ F_{y,\\text{air}} = -c \\cdot v_y \\cdot \\left| v_y \\right| $$ction.\r\n"
   ]
  },
  {
   "cell_type": "markdown",
   "metadata": {},
   "source": [
    "**Excercise.** In the cell below, modify your program to include air resistance.\n",
    "Define a new variable called **drag**, equal to the coefficient $c$ in \\eqref{airForce} divided by the ball's mass.  Then add a term  for air resistance to the line that calculates **ay**.  Python's absolute\n",
    "value function is called *abs()*.  Run the program\n",
    "for the following values of **drag**:  0 (to check that you get the same\n",
    "results as before), 0.01, 0.1, and 1.0.  Use the same initial conditions as\n",
    "before, with a time step small enough to give about four significant figures.\n",
    "Write down the results for the time of flight and final speed below.\n",
    "There is a markdown cell below the code one for you to add explanation for your code."
   ]
  },
  {
   "cell_type": "code",
   "execution_count": 41,
   "metadata": {
    "scrolled": true
   },
   "outputs": [
    {
     "data": {
      "text/html": [
       "<div id=\"glowscript\" class=\"glowscript\"></div>"
      ],
      "text/plain": [
       "<IPython.core.display.HTML object>"
      ]
     },
     "metadata": {},
     "output_type": "display_data"
    },
    {
     "data": {
      "application/javascript": [
       "if (typeof Jupyter !== \"undefined\") { window.__context = { glowscript_container: $(\"#glowscript\").removeAttr(\"id\")};}else{ element.textContent = ' ';}"
      ],
      "text/plain": [
       "<IPython.core.display.Javascript object>"
      ]
     },
     "metadata": {},
     "output_type": "display_data"
    },
    {
     "name": "stdout",
     "output_type": "stream",
     "text": [
      "Drag: 0, Time of flight: 1.4286 s, Final velocity: 14.0000 m/s\n"
     ]
    },
    {
     "data": {
      "text/html": [
       "<div id=\"glowscript\" class=\"glowscript\"></div>"
      ],
      "text/plain": [
       "<IPython.core.display.HTML object>"
      ]
     },
     "metadata": {},
     "output_type": "display_data"
    },
    {
     "data": {
      "application/javascript": [
       "if (typeof Jupyter !== \"undefined\") { window.__context = { glowscript_container: $(\"#glowscript\").removeAttr(\"id\")};}else{ element.textContent = ' ';}"
      ],
      "text/plain": [
       "<IPython.core.display.Javascript object>"
      ]
     },
     "metadata": {},
     "output_type": "display_data"
    },
    {
     "name": "stdout",
     "output_type": "stream",
     "text": [
      "Drag: 0.01, Time of flight: 1.4525 s, Final velocity: 13.3283 m/s\n"
     ]
    },
    {
     "data": {
      "text/html": [
       "<div id=\"glowscript\" class=\"glowscript\"></div>"
      ],
      "text/plain": [
       "<IPython.core.display.HTML object>"
      ]
     },
     "metadata": {},
     "output_type": "display_data"
    },
    {
     "data": {
      "application/javascript": [
       "if (typeof Jupyter !== \"undefined\") { window.__context = { glowscript_container: $(\"#glowscript\").removeAttr(\"id\")};}else{ element.textContent = ' ';}"
      ],
      "text/plain": [
       "<IPython.core.display.Javascript object>"
      ]
     },
     "metadata": {},
     "output_type": "display_data"
    },
    {
     "name": "stdout",
     "output_type": "stream",
     "text": [
      "Drag: 0.1, Time of flight: 1.6743 s, Final velocity: 9.2053 m/s\n"
     ]
    },
    {
     "data": {
      "text/html": [
       "<div id=\"glowscript\" class=\"glowscript\"></div>"
      ],
      "text/plain": [
       "<IPython.core.display.HTML object>"
      ]
     },
     "metadata": {},
     "output_type": "display_data"
    },
    {
     "data": {
      "application/javascript": [
       "if (typeof Jupyter !== \"undefined\") { window.__context = { glowscript_container: $(\"#glowscript\").removeAttr(\"id\")};}else{ element.textContent = ' ';}"
      ],
      "text/plain": [
       "<IPython.core.display.Javascript object>"
      ]
     },
     "metadata": {},
     "output_type": "display_data"
    },
    {
     "name": "stdout",
     "output_type": "stream",
     "text": [
      "Drag: 1, Time of flight: 3.4158 s, Final velocity: 3.1305 m/s\n"
     ]
    }
   ],
   "source": [
    "# check the code litttl bit \n",
    "\n",
    "from vpython import *\n",
    "\n",
    "def simulate_falling_ball(drag):\n",
    "    # Constants\n",
    "    g = 9.8  # Acceleration due to gravity (m/s^2)\n",
    "    dt = 1e-5  # Time step for high precision\n",
    "    y = 10  # Initial height (meters)\n",
    "    vy = 0  # Initial vertical velocity (m/s)\n",
    "    t = 0  # Initial time\n",
    "\n",
    "    # Setup the 3D environment\n",
    "    scene = canvas(title=\"Falling Ball Simulation with Drag\", width=400, height=400, background=color.white)\n",
    "    ground = box(pos=vector(0, -0.05, 0), size=vector(30, 0.1, 30), color=color.green)\n",
    "    ball = sphere(pos=vector(0, y, 0), radius=0.5, color=color.purple, make_trail=True, trail_radius=0.05, interval=int(1/dt))\n",
    "\n",
    "    # Setup graph for velocity vs time\n",
    "    velocity_graph = graph(title=f\"Velocity vs Time, Drag = {drag}\", xtitle='Time (s)', ytitle='Velocity (m/s)', align='right')\n",
    "    velocity_plot = gdots(graph=velocity_graph, color=color.blue, interval=10)\n",
    "\n",
    "    # Simulation loop\n",
    "    while y > 0:\n",
    "        rate(1/dt)\n",
    "        ay = -g - drag * abs(vy) * vy  # Calculate acceleration with air resistance\n",
    "        vy += ay * dt  # Update velocity\n",
    "        y += vy * dt  # Update position\n",
    "        ball.pos.y = y  # Update ball's position\n",
    "        velocity_plot.plot(t, vy)  # Plot current velocity\n",
    "        t += dt  # Increment time\n",
    "\n",
    "        # if y<0 , make linear interpolation \n",
    "        if y < 0:\n",
    "            delta_t = -y / vy  # Time to backtrack to y = 0\n",
    "            final_t = t + delta_t\n",
    "            final_vy = vy + ay * delta_t\n",
    "            print(f\"Drag: {drag}, Time of flight: {final_t:.4f} s, Final velocity: {abs(final_vy):.4f} m/s\")\n",
    "            break\n",
    "\n",
    "\n",
    "# loop for few values of drags \n",
    "drag_values = [0, 0.01, 0.1, 1]\n",
    "for drag in drag_values:\n",
    "    simulate_falling_ball(drag)\n"
   ]
  },
  {
   "cell_type": "markdown",
   "metadata": {},
   "source": [
    "**Explanations**: Write your answer here! #explanation to you code -\n",
    "\n",
    "1. Initializes the 3D canvas where the simulation will be visualized.\n",
    "\n",
    "2. Places a sphere representing the ball and a box for the ground in the simulation.\n",
    "\n",
    "after that we start the while loop which calculate the velocity and the time at hit the ground, Decreases due to gravity and drag, where drag is proportional to the square of velocity (drag * v * abs(v)).\n",
    "\n",
    "$$ a_y = -g - \\frac{c}{m} \\left| v_y \\right| v_y = -g - \\text{drag} \\left| v_y \\right| v_y $$\n",
    "\n",
    "\n",
    "meanwhile we Increases by v * dt, moving the ball based on its current velocity.\n",
    "if y<0 we fix the issue to get more accurate values due to the simulation time step.\n",
    "(Calculates delta_t, the time needed to backtrack to when the ball exactly reaches ground level (y = 0). Adjusts t and updates v to reflect this exact moment, ensuring physical accuracy.)\n",
    "\n"
   ]
  },
  {
   "cell_type": "markdown",
   "metadata": {},
   "source": [
    "**Question:** What are the SI units of the **drag** constant in your program?"
   ]
  },
  {
   "cell_type": "markdown",
   "metadata": {},
   "source": [
    "**Answer:** 1/m"
   ]
  },
  {
   "cell_type": "markdown",
   "metadata": {},
   "source": [
    "**Question:** How can you tell that your program is accurate to about four significant\n",
    "figures, when you no longer have an \"exact\" result to compare to?"
   ]
  },
  {
   "cell_type": "markdown",
   "metadata": {},
   "source": [
    "**Answer:**\n",
    "we can run our program with decreasing of dt values , when we start to seec convergence at four digits we can guess it's enough accurate ."
   ]
  },
  {
   "cell_type": "markdown",
   "metadata": {},
   "source": [
    "**Exercise.** Modify your last code cell to plot a graph showing\n",
    "the ball's velocity as a function of time.  (By default the graph will appear above or below the graphics canvas, and you may leave it there if you like.  If you would prefer to place the graph to the right of the canvas, you can do so by creating the graph first, setting its attribute **align=\"right\"**, and immediately plotting at least one point on the graph to make it appear before you set up the canvas.)  Use the **xtitle** and **ytitle** attributes to label both axes of the graph appropriately, including the units of the plotted quantities.  Use the **interval** parameter of the **gdots** function to avoid plotting a dot for every loop iteration (which would be pretty slow).  Run your program again with **drag** equal to 1.0.  Discuss the results briefly."
   ]
  },
  {
   "cell_type": "markdown",
   "metadata": {},
   "source": [
    "**Discussion:** 1.effct higt drag : with a high drag coeffiecient we will get a rapid decrese in the velocity as a funtion of time, faster than a case with a low coeffienct drag . \r\n",
    "2. velocity curve :as the coeffiecnt drag is higher we will get a steep decline in the velocity cause the resistence of the air, and that also addtect the time it take for a bullet to reach to a ground ."
   ]
  },
  {
   "cell_type": "markdown",
   "metadata": {},
   "source": [
    "**Exercise.** When the projectile is no longer accelerating, the forces acting\n",
    "on it must be in balance.  Use this fact to calculate your projectile's terminal\n",
    "speed by hand, and compare to the result of your computer simulation."
   ]
  },
  {
   "cell_type": "markdown",
   "metadata": {},
   "source": [
    "**Answers:** Write your answer here!\n",
    "\n",
    "**Answers:** Using formula \n",
    "$$\n",
    "a_{\\text{land}}=-g+\\text{drag}\\left|v_{\\text{land}}\\right|^{2}=0\\iff\\left|v_{\\text{land}}\\right|^{2}=\\frac{g}{\\text{drag}}\\iff v_{\\text{land}}=\\sqrt{\\frac{g}{\\text{drag}}}\n",
    "$$\n",
    "and foe $\\text{drag}=1$ we will get $v_{\\text{land}}=\\sqrt{9.8} m/s^{2} \\approx3.1305 m/s^{2}$."
   ]
  },
  {
   "cell_type": "markdown",
   "metadata": {},
   "source": [
    "# A better algorithm\n",
    "\n",
    "The Euler algorithm used above is sufficiently inaccurate that you've needed to use pretty small\n",
    "values of **dt**, making the calculation rather lengthy.  Fortunately, it isn't\n",
    "hard to improve the Euler algorithm.\n",
    "\n",
    "The crux of the algorithm is explained in the figure below: the derivative of a function at the\n",
    "middle of an interval (point $B$) is a much better approximation to the average\n",
    "slope ($AC$) than the derivative at the beginning of the interval (point $A$).\n",
    "\n",
    "![dummy](http://www.math.tau.ac.il/~haimav/SlopeAtMiddle.png)\n",
    "\n",
    "The Euler algorithm uses the values of $v_y$ and $a_y$ at the\n",
    "*beginning* of the time interval to estimate the changes in the\n",
    "position and velocity, respectively.  A much better approximation would be to\n",
    "instead use the values of $v_y$ and $a_y$ at the *middle* of the time\n",
    "interval.  Unfortunately, these values are not yet known. \n",
    "But even a rough estimate of these values should be better than none at all.  Here is\n",
    "an improved algorithm that uses such a rough estimate:\n",
    "\n",
    "1. Use the values of $v_y$ and $a_y$ at the beginning of the interval to estimate the position and velocity at the middle of the time interval.\n",
    "\n",
    "2. Use the estimated position and velocity at the middle of the interval to calculate an estimated acceleration at the middle of the interval.\n",
    "\n",
    "3. Use the estimated $v_y$ and $a_y$ at the middle of the interval to calculate the changes in $y$ and $v_y$ over the whole interval.\n",
    "\n",
    "This procedure is called the *Euler-Richardson algorithm*, also known\n",
    "as the *second-order Runge-Kutta algorithm*. \n",
    "\n",
    "Here is an implementation\n",
    "of the Euler-Richardson algorithm in Python for a projectile moving in one dimension,\n",
    "without air resistance:\n",
    "```\n",
    "    while y > 0:\n",
    "        ay = -g                      # ay at beginning of interval\n",
    "        ymid = y + vy*0.5*dt         # y at middle of interval\n",
    "        vymid = vy + ay*0.5*dt       # vy at middle of interval\n",
    "        aymid = -g                   # ay at middle of interval\n",
    "        y += vymid * dt\n",
    "        vy += aymid * dt\n",
    "        t += dt\n",
    "```\n",
    "\n",
    "The acceleration calculations in this example aren't very interesting, because\n",
    "$a_y$ doesn't depend on $y$ or $v_y$.  Still, the basic idea is to estimate\n",
    "$y$, $v_y$, and $a_y$ in the middle of the interval and then use these values\n",
    "to update $y$ and $v_y$.  Although each step of the Euler-Richardson algorithm\n",
    "requires  roughly twice as much calculation as the original Euler algorithm, it is\n",
    "usually many times more accurate and therefore allows us to use a much larger time\n",
    "interval.\n",
    "\n",
    "**Exercise.** Write down the correct modifications to the lines that calculate\n",
    "**ay** and **aymid**, for a projectile falling *with* air resistance.\n",
    "(Be careful to use the correct velocity value when calculating **aymid**!)"
   ]
  },
  {
   "cell_type": "markdown",
   "metadata": {},
   "source": [
    "**Answer:**\n",
    "```\n",
    "    while y > 0:\n",
    "        ay = -g - c * vy**2          # ay at beginning of interval\n",
    "        ymid = y + vy*0.5*dt         # y at middle of interval\n",
    "        vymid = vy + ay*0.5*dt       # vy at middle of interval\n",
    "        aymid = -g - c * vymid**2    # ay at middle of interval\n",
    "        y += vymid * dt\n",
    "        vy += aymid * dt\n",
    "        t += dt\n",
    "```\n",
    "\n",
    "\n",
    "\n",
    "\r\n"
   ]
  },
  {
   "cell_type": "markdown",
   "metadata": {},
   "source": [
    "**Questions.** One of the lines in the Euler-Richardson implementation above is not\n",
    "needed, even when there's air resistance.  Which line is it, and why do you think\n",
    "we included it if it isn't needed?"
   ]
  },
  {
   "cell_type": "markdown",
   "metadata": {},
   "source": [
    "**Answer:**    \n",
    "```\n",
    "ymid = y + vy * 0.5 * dt            # y at middle of interval\n",
    "```\n",
    "the reason :\n",
    "this intermediate position ymid is not used for any other calculations. The updated position and velocity are calculated directly using the velocities at the vymid and aymid."
   ]
  },
  {
   "cell_type": "markdown",
   "metadata": {},
   "source": [
    "**Exercise.** In the cell below, rewrite your program to use the Euler-Richardson\n",
    "algorithm.  For a **drag** constant of 0.1 and\n",
    "the same initial conditions as before ($y=10m$, $v_y = 0$),\n",
    "how small must you now make **dt** to get answers accurate to four significant\n",
    "figures?  Justify your answer.  (You should find that **dt** can now be *significantly* larger\n",
    "than before.  If this isn't what you find, there's probably an error in your\n",
    "implementation of the Euler-Richardson algorithm.)"
   ]
  },
  {
   "cell_type": "code",
   "execution_count": 28,
   "metadata": {},
   "outputs": [
    {
     "data": {
      "text/html": [
       "<div id=\"glowscript\" class=\"glowscript\"></div>"
      ],
      "text/plain": [
       "<IPython.core.display.HTML object>"
      ]
     },
     "metadata": {},
     "output_type": "display_data"
    },
    {
     "data": {
      "application/javascript": [
       "if (typeof Jupyter !== \"undefined\") { window.__context = { glowscript_container: $(\"#glowscript\").removeAttr(\"id\")};}else{ element.textContent = ' ';}"
      ],
      "text/plain": [
       "<IPython.core.display.Javascript object>"
      ]
     },
     "metadata": {},
     "output_type": "display_data"
    },
    {
     "name": "stdout",
     "output_type": "stream",
     "text": [
      "Drag constant: 0.10, Time of flight: 1.674282 s, Final velocity: -9.205278 m/s\n"
     ]
    }
   ],
   "source": [
    "from vpython import sphere, vector, color, box, canvas, rate\n",
    "\n",
    "def simulate_falling_ball_with_euler_richardson(drag):\n",
    "    g = 9.8  # Gravity (m/s^2)\n",
    "    y = 10  # Initial height (m)\n",
    "    vy = 0  # Initial velocity (m/s)\n",
    "    t = 0  # Initial time\n",
    "    dt = 1e-4  # steps time\n",
    "    # Setup the 3D environment\n",
    "    scene = canvas(title=\"Falling Ball Simulation\", width=400, height=400, background=color.white)\n",
    "    ground = box(pos=vector(0, -0.05, 0), size=vector(30, 0.1, 30), color=color.green)\n",
    "    ball = sphere(pos=vector(0, y, 0), radius=0.5, color=color.purple, make_trail=True)\n",
    "\n",
    "    \n",
    "    # Simulation loop\n",
    "    while y > 0:\n",
    "        rate(1/dt)  # Adjusted rate for better performance\n",
    "        ay = -g - drag * vy * abs(vy)  # Initial acceleration\n",
    "        vy_mid = vy + ay * 0.5 * dt  # Midpoint velocity estimate\n",
    "        y_mid = y + vy_mid * 0.5 * dt  # Midpoint position estimate\n",
    "        ay_mid = -g - drag * vy_mid * abs(vy_mid)  # Midpoint acceleration\n",
    "\n",
    "        vy += ay_mid * dt  # Update velocity using midpoint acceleration\n",
    "        y += vy_mid * dt  # Update position using midpoint velocity\n",
    "        ball.pos.y = y  # Update the visual position\n",
    "        t += dt  # Increment time\n",
    "\n",
    "        if y < 0:  # Check if below ground to interpolate\n",
    "            delta_t = -y / vy_mid  # Time to backtrack to y=0\n",
    "            t += delta_t\n",
    "            vy += ay_mid * delta_t\n",
    "            y = 0\n",
    "\n",
    "    print(f\"Drag constant: {drag:.2f}, Time of flight: {t:.6f} s, Final velocity: {vy:.6f} m/s\")\n",
    "\n",
    "# simulation while deag =0.1\n",
    "simulate_falling_ball_with_euler_richardson(drag=0.1)\n"
   ]
  },
  {
   "cell_type": "markdown",
   "metadata": {},
   "source": [
    "**Answers:** we can see which with $dt=10^{-4}$  we get an answers accurate to four significant figures. the justification is by convergence of \"time of flight\" and \"final velocity\"."
   ]
  },
  {
   "cell_type": "markdown",
   "metadata": {},
   "source": [
    "# Two-dimensional projectile motion\n",
    "\n",
    "Simulating projectile motion is only slightly more difficult in two dimensions\n",
    "than in one.  To do so you'll need an $x$ variable for every $y$ variable, and\n",
    "about twice as many lines of code to initialize these variables and update\n",
    "them within the simulation loop.  To calculate the $x$ and $y$ components of the\n",
    "drag force, it's helpful to draw a picture:\n",
    "\n",
    "![dummy](http://www.math.tau.ac.il/~haimav/AirForce.png)\n",
    "\n",
    "Assuming that the drag force is always\n",
    "opposite to the velocity vector, the similar triangles in this diagram can\n",
    "be used to express the force components in terms of the velocity components.\n",
    "\n",
    "**Exercise.** Derive formulas \n",
    "for the $x$ and $y$ components of\n",
    "the drag force, written in terms of $v_x$ and $v_y$.  The magnitude of the\n",
    "drag force is again given by \\eqref{airForce}. "
   ]
  },
  {
   "cell_type": "markdown",
   "metadata": {},
   "source": [
    "**Answer:** \n",
    "The x-component of the drag force is given by:\r\n",
    "$$ f_{\\text{drag}, x} = -c \\cdot v_x \\cdot \\sqrt{v_x^2 + v_y^2} $$\r\n",
    "\r\n",
    "The y-component of the drag force is given by:\r\n",
    "$$ f_{\\text{drag}, y} = -c \\cdot v_y \\cdot \\sqrt{v_x^2 + v_y^2} $$\r\n",
    "\n"
   ]
  },
  {
   "cell_type": "markdown",
   "metadata": {},
   "source": [
    "**Excercise.** In the cell below, write the Python code for calculating the acceleration components, **ax** and **ay**, for a projectile moving in two dimensions with air resistance.  The Python function for taking a square root is *sqrt()*.  To square a quantity you can either just multiply it by itself, or use the Python exponentiation operator, \\*\\*. *There is no need to actually run the cell, just write the code.*"
   ]
  },
  {
   "cell_type": "code",
   "execution_count": 30,
   "metadata": {},
   "outputs": [],
   "source": [
    "while False: #use false to enable the code run witout error \n",
    "    v = sqrt(vx**2 + vy**2)\n",
    "    ax = - drag * vx * v        \n",
    "    ay = -g - drag * vy * v"
   ]
  },
  {
   "cell_type": "markdown",
   "metadata": {},
   "source": [
    "**Exercise.** Now think about implementing the Euler-Richardson algorithm in two dimensions.  For each line of the code we gave for the Euler-Richardson algorithm that calculates a $y$ variable, you'll need to add a line to calculate the corresponding $x$ variable.  But the order of these lines matters!  Should you alternate $x,y,x,y\\ldots\\,$, or should you calculate all the $x$ variables first and then all the $y$ variables, or vice-versa?  Explain carefully."
   ]
  },
  {
   "cell_type": "markdown",
   "metadata": {},
   "source": [
    "**Answer:** \n",
    "from mathematical approach the result of the two type of calculation suppose to be same, the components are independent.\n",
    ".but i think to use at sequential calculations of preferred , first calculate all the x variable and after that calculate all y variable (or vice versa).)\n",
    ".\r\n",
    "\r\n",
    "two resoans :\r\n",
    "1. Consistency: This method ensures that all updates rely on the same baseline data, which helps prevent the introduction of errors that can occur when some variables are updated mid calculation using values that no longer reflect the starting conditions of the current timestep\r\n",
    "\r\n",
    "2. \r\n",
    "Symmetry and Stability:Consistent at mid-point values across all dimensions (x and y) ensure the stability and accuracy enhancements the method is de.helly \r\n",
    "**"
   ]
  },
  {
   "cell_type": "markdown",
   "metadata": {},
   "source": [
    "**Exercise.** In the cell below, write code to simulate projectile motion in two dimensions, for the specific case of a ball launched from the origin at a given initial speed and angle that are set near the top of the program.  Again use a sphere to represent the ball, leaving a trail as it moves, and use a very shallow box to represent the ground.  Allow for the ball to travel as far as about 150 meters in the $x$ direction before it lands, sizing the box and setting **scene.center** appropriately. Use the Euler-Richardson algorithm, with a time step of 0.01 second.  Run your program and check that everything seems to be working."
   ]
  },
  {
   "cell_type": "code",
   "execution_count": 45,
   "metadata": {},
   "outputs": [
    {
     "data": {
      "text/html": [
       "<div id=\"glowscript\" class=\"glowscript\"></div>"
      ],
      "text/plain": [
       "<IPython.core.display.HTML object>"
      ]
     },
     "metadata": {},
     "output_type": "display_data"
    },
    {
     "data": {
      "application/javascript": [
       "if (typeof Jupyter !== \"undefined\") { window.__context = { glowscript_container: $(\"#glowscript\").removeAttr(\"id\")};}else{ element.textContent = ' ';}"
      ],
      "text/plain": [
       "<IPython.core.display.Javascript object>"
      ]
     },
     "metadata": {},
     "output_type": "display_data"
    },
    {
     "name": "stdout",
     "output_type": "stream",
     "text": [
      "Simulation complete.\n",
      "drag: 0.010 m\n",
      "Initial speed: 30.000 m/s, Launch angle: 45 degrees, Drag constant: 0.01\n",
      "Landing time: 3.802 s\n",
      "Range of the projectile: 56.603 m\n",
      "Maximum height: 17.689 m\n"
     ]
    }
   ],
   "source": [
    "from vpython import sphere, vector, color, box, canvas, rate, sqrt, sin, cos, radians\n",
    "\n",
    "def simulate_projectile_motion(v0, theta, dt=0.01, c=0.01, g=9.8):\n",
    " \n",
    "    # Convert angle to radians\n",
    "    theta_radians = radians(theta)\n",
    "\n",
    "    # Initial conditions\n",
    "    x, y = 0, 0  # our initial point\n",
    "    vx = v0 * cos(theta_radians)  # velocity on x axe\n",
    "    vy = v0 * sin(theta_radians)  # velocity on y axe\n",
    "    t = 0  # Time starts at zero\n",
    "    ymax = 0  # variable to calculate y max \n",
    "\n",
    "    # Create canvas\n",
    "    scene = canvas(title='Projectile Motion Simulation',\n",
    "                   width=1200, height=600,\n",
    "                   center=vector(75, 25, 0),\n",
    "                   background=color.white)\n",
    "    ball = sphere(pos=vector(x, y, 0), radius=1, color=color.blue, make_trail=True)\n",
    "    ground = box(pos=vector(75, 0, 0), size=vector(300, 2, 10), color=color.green)\n",
    "\n",
    "    # Simulation loop\n",
    "    while ball.pos.y >= 0:\n",
    "        rate(150)  # Control the rate of the simulation to make it visually manageable\n",
    "\n",
    "        if y > ymax:\n",
    "            ymax = y  # Update maximum height\n",
    "\n",
    "        # Compute accelerations\n",
    "        ax = -c * vx * sqrt(vx**2 + vy**2)\n",
    "        ay = -g - c * vy * sqrt(vx**2 + vy**2)\n",
    "\n",
    "        # Midpoint calculations\n",
    "        x_mid = x + vx * 0.5 * dt\n",
    "        y_mid = y + vy * 0.5 * dt\n",
    "        vx_mid = vx + ax * 0.5 * dt\n",
    "        vy_mid = vy + ay * 0.5 * dt\n",
    "        ax_mid = -c * vx_mid * sqrt(vx_mid**2 + vy_mid**2)\n",
    "        ay_mid = -g - c * vy_mid * sqrt(vy_mid**2 + vy_mid**2)\n",
    "\n",
    "        # Final updates\n",
    "        x += vx_mid * dt\n",
    "        y += vy_mid * dt\n",
    "        vx += ax_mid * dt\n",
    "        vy += ay_mid * dt\n",
    "        t += dt\n",
    "\n",
    "        # Update position ball\n",
    "        ball.pos = vector(x, y, 0)\n",
    "\n",
    "        # Check for landing\n",
    "        # interpollation \n",
    "        if y < 0:\n",
    "            delta_t = -y / vy\n",
    "            final_t = t + delta_t\n",
    "            final_x = x + vx * delta_t\n",
    "            break\n",
    "\n",
    "    # Output results , printing \n",
    "    print(\"Simulation complete.\")\n",
    "    print(f\"drag: {c:.3f} m\")\n",
    "    print(f\"Initial speed: {v0:.3f} m/s, Launch angle: {theta} degrees, Drag constant: {c}\")\n",
    "    print(f\"Landing time: {final_t:.3f} s\")\n",
    "    print(f\"Range of the projectile: {final_x:.3f} m\")\n",
    "    print(f\"Maximum height: {ymax:.2f} m\")\n",
    "\n",
    "# Example\n",
    "simulate_projectile_motion(v0=30, theta=45)\n",
    "\n",
    "# done and good "
   ]
  },
  {
   "cell_type": "markdown",
   "metadata": {},
   "source": [
    "**Excercise.** Add code to the last cell to calculate and display the landing time, the value of $x$ at this time (that is, the *range* of the projectile), and the projectile's maximum height.  Use interpolation for the first two quantities, as you did in the one dimensional case.  For the maximum height, you'll need to test during each iteration whether the current height is more than the previous maximum.  To do this you can use an *if* statement, whose syntax is similar to that of a *while* loop:\n",
    "```\n",
    "    if y > ymax:\n",
    "        ymax = y\n",
    "```\n",
    "Use *print* functions to display all three of your calculated results, along with the initial speed and angle, and the **drag** constant.\n",
    "\n",
    "**Excercise.** Check that your program gives the expected results when there is no air resistance, for a launch angle of $45^\\circ$ and your choice of launch speed.  Write down your results, along with your calculations of the expected results."
   ]
  },
  {
   "cell_type": "markdown",
   "metadata": {
    "jp-MarkdownHeadingCollapsed": true
   },
   "source": [
    "### **Answer:** \n",
    "\n",
    "## Theoretical Calculations for Projectile Motion\r\n",
    "\r\n",
    "To verify the accuracy of the program without air resistancewe usean calculate thfunction :s.\r\n",
    "\r\n",
    "### Key Formlas\r\n",
    "\r\n",
    "For projectile motion without air resistance:\r\n",
    "\r\n",
    "1. **Range (R)**:\r\n",
    "   $$ R = \\frac{v_0^2 \\sin(2\\theta)}{g} $$\r\n",
    "   where \\( v_0 \\) is the initial speed, \\( \\theta \\) is the launch angle in degrees, and \\( g \\) is the acceleration due to gravity.\r\n",
    "\r\n",
    "2. **Time of Flight (T)**:\r\n",
    "   $$ T = \\frac{2 v_0 \\sin(\\theta)}{g} $$\r\n",
    "\r\n",
    "3. **Maximum Height (H)**:\r\n",
    "   $$ H = \\frac{v_0^2 \\sin\n",
    "^### Case Variables\n",
    "\n",
    "In our simulation, we use the following parameters:\n",
    "- Initial velocity (`v0`): 30 m/s\n",
    "- Launch angle (`theta`): 45 degrees\n",
    "- Acceleration due to gravity (`g`): 9.8 m/s²\n",
    "\n",
    "### Simulation Output\n",
    "\n",
    "When we execute the Python code for calculating the projectile motion, we get the next results:\n",
    "\n",
    "- **Calculated Range:** 91.8367 m\n",
    "- **Calculated Time of Flight:** 4.3292 s\n",
    "- **Calculated Maximum Height:** 22.9592 m2 m\n",
    "\n",
    "\n",
    "\n",
    "  g = 9.8 \\) m/s²:\r\n",
    "\r\n",
    "### Python\n",
    "ht, and maximum height:\r\n",
    "\r\n",
    "```python\r\n",
    "from math import sin, cos, radians, pi\r\n",
    "\r\n",
    "# Constants\r\n",
    "v0 = 30  # m/s\r\n",
    "theta_degrees = 45\r\n",
    "theta_radians = radians(theta_degrees)\r\n",
    "g = 9.8  # m/s^2\r\n",
    "\r\n",
    "# Calculations\r\n",
    "Range = (v0**2 * sin(2 * theta_radians)) / g\r\n",
    "Time_of_Flight = (2 * v0 * sin(theta_radians)) / g\r\n",
    "Max_Height = (v0**2 * (sin(theta_radians))**2) / (2 * g)\r\n",
    "\r\n",
    "# Print results\r\n",
    "print(f\"Calculated Range: {Range:.4f} m\")\r\n",
    "print(f\"Calculated Time of Flight: {Time_of_Flight:.4f} s\")\r\n",
    "print(f\"Calculated Maximum Height: {Max_Height:.4f} m\")\r\n",
    "\n"
   ]
  },
  {
   "cell_type": "markdown",
   "metadata": {},
   "source": [
    "**Exercise.** To control the number of displayed digits, you can use the following (admittedly arcane) syntax:\n",
    "```\n",
    "    Maximum height = \"{:.2f}\".format(ymax)\n",
    "```\n",
    "Here we're creating a string object (in quotes) and then calling its associated *format* function with the parameter **ymax**.  This function replaces the curly braces, and what's between them, with the value of **ymax**, rounded to two decimal places.  (To change this to three decimal places, you would just change *.2f* to *.3f*; the *f* stands for *floating-point* format.)  Make the needed changes to display all three of the calculated results to just four decimal places."
   ]
  },
  {
   "cell_type": "markdown",
   "metadata": {},
   "source": [
    "# A graphical user interface\n",
    "\n",
    "Are you tired of having to edit your code and rerun your programs every time you want to change one of the constants or initial conditions?  A more convenient approach---at least if you'll be running a simulation more than a handful of times---is to create a *graphical user interface*, or *GUI*, that lets you adjust these numbers and repeat the simulation while the program is running.\n",
    "\n",
    "Creating a graphical user interface using\n",
    "VPython is easy.  The documentation refers\n",
    "to its GUI controls as *widgets*, and in this project we'll use three of them:  the button, the slider, and the dynamic text widget.\n",
    "\n",
    "Here's some minimal code to create a button that merely displays a message:\n",
    "```\n",
    "    def launch():\n",
    "        print(\"Launching the projectile!\")\n",
    "\n",
    "    button(text=\"Launch!\", bind=launch)\n",
    "```\n",
    "The first two lines define a *new function* called *launch*, and the last line creates a button that is *bound* to this function, so the function is called whenever the button is pressed.\n",
    "\n",
    "**Exercise.** Copy the code from the last code cell to the cell below, and add the code above for adding the button at the end. Try it. Does the button continue to work after the evaluation of the cell has completed (indicated by the fact that the cell is given a number in the brackets)?"
   ]
  },
  {
   "cell_type": "code",
   "execution_count": 50,
   "metadata": {
    "scrolled": true
   },
   "outputs": [
    {
     "data": {
      "text/html": [
       "<div id=\"glowscript\" class=\"glowscript\"></div>"
      ],
      "text/plain": [
       "<IPython.core.display.HTML object>"
      ]
     },
     "metadata": {},
     "output_type": "display_data"
    },
    {
     "data": {
      "application/javascript": [
       "if (typeof Jupyter !== \"undefined\") { window.__context = { glowscript_container: $(\"#glowscript\").removeAttr(\"id\")};}else{ element.textContent = ' ';}"
      ],
      "text/plain": [
       "<IPython.core.display.Javascript object>"
      ]
     },
     "metadata": {},
     "output_type": "display_data"
    }
   ],
   "source": [
    "from vpython import *\n",
    "\n",
    "def launch():\n",
    "    # Clear data\n",
    "    scene.clear()\n",
    "    \n",
    "    # Re-setup the scene\n",
    "    setup_scene()\n",
    "\n",
    "    print(\"Launching the projectile!\")\n",
    "    \n",
    "    # Start the simulation\n",
    "    simulate_projectile_motion(v0=100, theta=45)\n",
    "\n",
    "\n",
    "\n",
    "\n",
    "def setup_scene():\n",
    "    global scene, ball, ground\n",
    "    scene = canvas(title='Projectile Motion Simulation',\n",
    "                   width=1200, height=600,\n",
    "                   center=vector(75, 25, 0),\n",
    "                   background=color.white)\n",
    "    ball = sphere(radius=1, color=color.blue, make_trail=True)\n",
    "    ground = box(pos=vector(75, 0, 0), size=vector(300, 2, 10), color=color.green)\n",
    "\n",
    "\n",
    "\n",
    "def simulate_projectile_motion(v0, theta, dt=0.01, c=0.01, g=9.81):\n",
    "    theta_radians = radians(theta)\n",
    "    x, y = 0, 0\n",
    "    vx = v0 * cos(theta_radians)\n",
    "    vy = v0 * sin(theta_radians)\n",
    "    t = 0\n",
    "    ymax = 0\n",
    "    \n",
    "    while ball.pos.y >= 0:\n",
    "        rate(100)\n",
    "        if y > ymax:\n",
    "            ymax = y\n",
    "        \n",
    "        ax = -c * vx * sqrt(vx**2 + vy**2)\n",
    "        ay = -g - c * vy * sqrt(vx**2 + vy**2)\n",
    "        x_mid = x + vx * 0.5 * dt\n",
    "        y_mid = y + vy * 0.5 * dt\n",
    "        vx_mid = vx + ax * 0.5 * dt\n",
    "        vy_mid = vy + ay * 0.5 * dt\n",
    "        ax_mid = -c * vx_mid * sqrt(vx_mid**2 + vy_mid**2)\n",
    "        ay_mid = -g - c * vy_mid * sqrt(vy_mid**2 + vy_mid**2)\n",
    "        \n",
    "        x += vx_mid * dt\n",
    "        y += vy_mid * dt\n",
    "        vx += ax_mid * dt\n",
    "        vy += ay_mid * dt\n",
    "        t += dt\n",
    "        \n",
    "        ball.pos = vector(x, y, 0)\n",
    "        if y < 0:\n",
    "            delta_t = -y / vy\n",
    "            final_t = t + delta_t\n",
    "            final_x = x + vx * delta_t\n",
    "            break\n",
    "\n",
    "    print(\"Simulation complete.\")\n",
    "    print(f\"Initial speed: {v0} m/s, Launch angle: {degrees(theta_radians)} degrees, Drag constant: {c}\")\n",
    "    print(f\"Landing time: {final_t:.4f} s\")\n",
    "    print(f\"Range of the projectile: {final_x:.4f} m\")\n",
    "    print(f\"Maximum height: {ymax:.4f} m\")\n",
    "\n",
    "# Setup initial scene\n",
    "setup_scene()\n",
    "\n",
    "# Add a button to launch the simulation\n",
    "button(text=\"Launch!\", bind=launch)\n",
    "\n"
   ]
  },
  {
   "cell_type": "markdown",
   "metadata": {},
   "source": [
    "You might wonder how to control *where* the button appears.  VPython doesn't give you nearly as much control over the placement as would an environment for developing commercial software.  By default, new widgets are placed immediately below the **scene** canvas, in what's called its *caption*.  There are a few other placement options that you can read about on the Widgets documentation page if you like.\n",
    "\n",
    "More importantly, your Launch! button doesn't yet do what we want, namely launch the projectile!  One way would be to move all your initialization and simulation code into the definition of the new *launch* function. We will take a more difficult path, but one that will use a program structure that will be more useful in future projects. \n",
    "\n",
    "The basic idea is to turn your *while* loop into an *infinite* loop that runs forever, but to execute most of the code inside the loop only if the simulation is supposed to be \"running\".  The following code provides a basic outline.\n",
    "```\n",
    "    while True:\n",
    "        rate(100)\n",
    "        if running:\n",
    "            # carry out an Euler-Richardson step\n",
    "            if y < 0:\n",
    "                running = False\n",
    "                # print out results\n",
    "``` \n",
    "The new idea here is the introduction of a *boolean* variable called **running*, whose value is always one of the two boolean constants **True** or **False** (note that these are capitalized in Python).  When **running** is **False**, we merely call the *rate* function to delay a bit before the next loop iteration.  When **running** is **True**, we carry out a time-integration step (using the code you've already written, omitted here for brevity), then test whether the ball has dropped below ground level, in which case we set ```running = False``` and print out the results.\n",
    "\n",
    "**Exercise.** Insert this new code into a new cell, replacing the two comments with the code you've already written to carry out the time step and print the results.  Also add a line near the top of the program to initially set ```running = True```.  Test the program to verify that it works exactly as before.\n",
    "**Important:** When you run the code, because of the infinite loop, the cell continues to run and it's evaluation never stops. This is indicated by the * in the brackets near the cell. This will prevent you from running this cell or any other cell. To stop the execution, use the menu item Kernel->Interrupt."
   ]
  },
  {
   "cell_type": "code",
   "execution_count": null,
   "metadata": {},
   "outputs": [
    {
     "data": {
      "text/html": [
       "<div id=\"glowscript\" class=\"glowscript\"></div>"
      ],
      "text/plain": [
       "<IPython.core.display.HTML object>"
      ]
     },
     "metadata": {},
     "output_type": "display_data"
    },
    {
     "data": {
      "application/javascript": [
       "if (typeof Jupyter !== \"undefined\") { window.__context = { glowscript_container: $(\"#glowscript\").removeAttr(\"id\")};}else{ element.textContent = ' ';}"
      ],
      "text/plain": [
       "<IPython.core.display.Javascript object>"
      ]
     },
     "metadata": {},
     "output_type": "display_data"
    }
   ],
   "source": [
    "from vpython import *\n",
    "\n",
    "\n",
    "# build the simulation\n",
    "# Setup the scene globally\n",
    "scene = canvas(title='Projectile Motion Simulation',\n",
    "               width=1200, height=600,\n",
    "               center=vector(75, 25, 0),\n",
    "               background=color.white)\n",
    "ball = sphere(radius=1, color=color.blue, make_trail=True)\n",
    "ground = box(pos=vector(75, 0, 0), size=vector(300, 2, 10), color=color.green)\n",
    "\n",
    "# Constants\n",
    "dt = 0.01  # Time step\n",
    "g = 9.8  # Acceleration due to gravity (m/s^2)\n",
    "running = False  # Initially, the simulation is not running\n",
    "\n",
    "def adjustAngle():\n",
    "    angleReadout.text = f\"{angleSlider.value} degrees\"\n",
    "\n",
    "def adjustSpeed():\n",
    "    speedReadout.text = f\"{speedSlider.value} m/s\"\n",
    "\n",
    "def adjustDrag():\n",
    "    dragReadout.text = f\"{dragSlider.value:.3f}\"\n",
    "\n",
    "# UI for angle control\n",
    "scene.append_to_caption(\"\\n\\nAngle (degrees): \")\n",
    "angleSlider = slider(min=0, max=90, value=45, step=1, bind=adjustAngle)\n",
    "angleReadout = wtext(text=f\"{angleSlider.value} degrees\")\n",
    "scene.append_to_caption(\"\\n\")  # New line for clarity\n",
    "\n",
    "# UI for speed control\n",
    "scene.append_to_caption(\"\\nSpeed (m/s): \")\n",
    "speedSlider = slider(min=0, max=50, value=20, step=1, bind=adjustSpeed)\n",
    "speedReadout = wtext(text=f\"{speedSlider.value} m/s\")\n",
    "scene.append_to_caption(\"\\n\")  # New line for clarity\n",
    "\n",
    "# UI for drag control\n",
    "scene.append_to_caption(\"\\nDrag Coefficient: \")\n",
    "dragSlider = slider(min=0, max=1.0, value=0.01, step=0.005, bind=adjustDrag)\n",
    "dragReadout = wtext(text=f\"{dragSlider.value:.3f}\")\n",
    "scene.append_to_caption(\"\\n\")  # New line for clarity\n",
    "\n",
    "\n",
    "def exit_simulation():\n",
    "    global running\n",
    "    running = False\n",
    "    raise SystemExit(\"Simulation exited by user.\")  # Attempt to terminate the notebook cell execution\n",
    "\n",
    "\n",
    "def stop_simulation():\n",
    "    global running\n",
    "    running = False\n",
    "\n",
    "def clear_trails():\n",
    "    global x, y\n",
    "    x, y = 0, 0  # Reset position to the origin\n",
    "    ball.pos = vector(x, y, 0)  # Set the ball's position to the origin\n",
    "    ball.clear_trail()  # Clear the trail\n",
    "\n",
    "def clear_and_relaunch():\n",
    "    clear_trails()\n",
    "    launch()  # Immediately re-launch the simulation\n",
    "\n",
    "\n",
    "\n",
    "# Function to launch the simulation\n",
    "def launch():\n",
    "    global x, y, vx, vy, running\n",
    "    # Retrieve values from sliders\n",
    "    v0 = speedSlider.value\n",
    "    theta = angleSlider.value\n",
    "    drag = dragSlider.value\n",
    "    theta_radians = radians(theta)\n",
    "    # Set initial conditions based on slider values\n",
    "    x, y = 0, 0\n",
    "    vx = v0 * cos(theta_radians)\n",
    "    vy = v0 * sin(theta_radians)\n",
    "    ball.pos = vector(x, y, 0)\n",
    "    ball.clear_trail()\n",
    "    running = True\n",
    "\n",
    "\n",
    "# Buttons\n",
    "button(text=\"Launch!\", bind=launch)\n",
    "button(text=\"Stop\", bind=stop_simulation)\n",
    "button(text=\"Clear Trails\", bind=clear_trails)\n",
    "button(text=\"Exit\", bind=exit_simulation)  # Bind the exit function\n",
    "button(text=\"Clear & Relaunch\", bind=clear_and_relaunch)\n",
    "\n",
    "\n",
    "def run_simulation():\n",
    "    global x, y, vx, vy, running\n",
    "    while True:\n",
    "        rate(100)\n",
    "        if running:\n",
    "            # Perform simulation steps\n",
    "            ax = -dragSlider.value * vx * sqrt(vx**2 + vy**2)\n",
    "            ay = -g - dragSlider.value * vy * sqrt(vx**2 + vy**2)\n",
    "            vx += ax * dt\n",
    "            vy += ay * dt\n",
    "            x += vx * dt\n",
    "            y += vy * dt\n",
    "            ball.pos = vector(x, y, 0)\n",
    "            if y < 0:\n",
    "                running = False\n",
    "                print(f\"Simulation complete. Landing position: x = {x:.4f} m, y = {y:.4f} m\")\n",
    "                print(f\"Final velocity: vx = {vx:.4f} m/s, vy = {vy:.4f} m/s\")\n",
    "\n",
    "# excute \n",
    "run_simulation() "
   ]
  },
  {
   "cell_type": "markdown",
   "metadata": {},
   "source": [
    "**Exercise.** You're now ready to activate your Launch! button.  To do so, insert the following two lines into the indented body of the *launch* function definition:\n",
    "```\n",
    "    global running\n",
    "    running = True\n",
    "```\n",
    "Also change your initialization line near the top of the program to set ```running = False``` instead of **True**.  Test your program again and verify that the projectile is not launched until you press the button. Remember that to exit cell evaluation you use Kernel->Interrupt.\n",
    "\n",
    "**Exercise.** To allow multiple launches, simply move all of the relevant code to initialize the variables into your *launch* function.  You'll also need to add their names, separated by commas, to the *global* statement.  Leave the initializations of **dt** and **g** outside the function definition, since those values never change.  Check that you can now launch the projectile repeatedly.\n",
    "\n",
    "**Exercise.** Using the menu item Kernel->Interrupt can be tedious and unintuitive. Instead, add another button called Exit that will cause the cell evaluation to terminate. \n",
    "\n",
    "Before going on, let us pause to explain that *global* statement.  In Python, any variable that you change inside a function definition is *local* by default, meaning that it exists only within the function definition and not outside it.  In longer programs, this behavior is a very good thing, because it frees you, when you're writing a function definition, from having to worry about which variable names have already been used elsewhere in the program.  But this means that when you *do* want to change a *global* variable (that is, one that belongs to the larger program), you need to \"declare\" it as *global* inside your function.   Notice that you need to use *global* only if your function is *changing* the variable; you don't need it just to \"read\" the value of a variable.  And for technical reasons, this means that you don't need to declare graphics objects as global variables just to change their attributes.\n",
    "\n",
    "Now let's add some controls to let you vary the launch conditions.  The best way to adjust a numerical parameter is usually with a slider control.  Here is how you can add one to adjust the launch angle:\n",
    "```\n",
    "    def adjustAngle():\n",
    "        pass    # function does nothing for now\n",
    "    scene.append_to_caption(\"\\n\\n\")\n",
    "    angleSlider = slider(left=10, min=0, max=90, step=1, value=45, \n",
    "                            bind=adjustAngle)\n",
    "```\n",
    "The *slider* function creates the slider, and most of its parameters indicate which numerical values to associate with the allowed slider positions.  The **value** parameter is set to an initial value (here intended to be 45 degrees), but will change when you actually adjust the slider.  The **left** parameter and the *append_to_caption* function on the previous line merely insert some space around the slider in the window layout (\"\\\\n\" is the code for \"new line\").  The **bind** parameter, as before, binds a function to this control; that function (*adjustAngle*) will be called whenever you adjust the slider.  For now I've used Python's *pass* statement to make the function do nothing.\n",
    "\n",
    "**Exercise.** Put this code into your program, and check that the slider appears underneath the Launch button.  Then modify the code that sets the ball's initial launch angle so it uses **angleSlider.value** instead of whatever angle you were giving it before.  You should now be able to launch multiple projectiles at varying angles.  Try it!\n",
    "\n",
    "**Exercise.** The only problem now is that you can't tell exactly what angle the slider is set to -- at least not until you actually click Launch! and see the output of your *print* function.  To give the slider a numerical display, add the following code right after the line that creates the slider:\n",
    "```\n",
    "    scene.append_to_caption(\"    Angle = \")\n",
    "    angleSliderReadout = wtext(text=\"45 degrees\")\n",
    "```\n",
    "Then replace the *pass* statement in the *adjustAngle* function with:\n",
    "```\n",
    "    angleSliderReadout.text = str(angleSlider.value) + \" degrees\"\n",
    "```\n",
    "(This line uses the + operator to join two strings together: an example of what's called *operator overloading*.)  Verify that the slider's numerical readout now works as it should.\n",
    "\n",
    "**Exercise.** Add two more sliders, with numerical readouts, to control the ball's initial speed and the **drag** constant.  Let the launch speed range from 0 to 50 m/s in increments of 1 m/s, and let the **drag** constant range from 0 to 1.0 in increments of 0.005 (in SI units).  Test these sliders to make sure they work as they should.\n",
    "\n",
    "**Exercise.** Add a second button (on the same caption line as the Launch! button) to clear away the trails from previous launches and start over.  To do this, the bound function should set the ball's position back to the origin and then call the ball's *clear_trail* function (with no parameters). \n",
    "\n",
    "**Exercise.** Run your  program, experimenting with various values\n",
    "of the drag coefficient, launch speed, and launch angle.  You may recall from introductory physics that when there is no air resistance, the maximum range for a given launch speed occurs at an angle of $45^\\circ$.  Check this for a launch speed of 25 m/s, then increase the drag coefficient to 0.1 and find the angle that gives the maximum range.  What angle did you get? Explain why you would expect the optimum angle to be less when there is air resistance.  "
   ]
  },
  {
   "cell_type": "markdown",
   "metadata": {},
   "source": [
    "**Answer:** \n",
    "\n",
    "for our condition of drag =0.1 and luanch speed =25 , i check many variables of theta\\angle and found whihch for theta =33 , we get the maximum range of x .\n",
    "\n",
    "\r\n",
    "Simulation complete. Landing position: x = 14.5028 m, y = -0.0004 m\r\n",
    "Final velocity: vx = 3.8505 m/s, vy = -6.8792 m/s\n",
    "\n"
   ]
  },
  {
   "cell_type": "markdown",
   "metadata": {},
   "source": [
    "**Exercise.** The maximum speed of a batted baseball is about 110 mph, or about 50 m/s.\n",
    "At this speed, the ball's drag coefficient (as defined in your program) is\n",
    "approximately $0.005~{\\rm m}^{-1}$.  Using your program with these inputs, estimate\n",
    "the maximum range of a batted baseball, and the angle at which the maximum range\n",
    "is attained.  Write down and justify your results.\n",
    "Is your answer reasonable, compared to the typical distance of an\n",
    "outfield fence from home plate (about 350--400 feet)?  For the same initial speed\n",
    "and angle, how far would the baseball go without air resistance?"
   ]
  },
  {
   "cell_type": "markdown",
   "metadata": {},
   "source": [
    "**Answer:** \n",
    "with air resistnece we will get the maximum range when the angle will be 40 , i placed values and check when we get the maximum and the \"Range of the projectile: 137.7650 m.\n",
    "\n",
    "the values from the program :\n",
    "Simulation complete. Landing position: x = 137.7650 m, y = -0.0021 m\r\n",
    "s\n",
    "without air reistence the Range of the projectile: 251.22436 m, almot 2 times bigger . \n",
    "\n",
    "\n",
    "in the cells below there are the program which i used to calculate this .\n",
    "lly"
   ]
  },
  {
   "cell_type": "code",
   "execution_count": 3,
   "metadata": {},
   "outputs": [
    {
     "data": {
      "text/html": [
       "<div id=\"glowscript\" class=\"glowscript\"></div>"
      ],
      "text/plain": [
       "<IPython.core.display.HTML object>"
      ]
     },
     "metadata": {},
     "output_type": "display_data"
    },
    {
     "data": {
      "application/javascript": [
       "if (typeof Jupyter !== \"undefined\") { window.__context = { glowscript_container: $(\"#glowscript\").removeAttr(\"id\")};}else{ element.textContent = ' ';}"
      ],
      "text/plain": [
       "<IPython.core.display.Javascript object>"
      ]
     },
     "metadata": {},
     "output_type": "display_data"
    },
    {
     "name": "stdout",
     "output_type": "stream",
     "text": [
      "Simulation complete. Landing position: x = 137.7650 m, y = -0.0021 m\n",
      "Final velocity: vx = 17.1181 m/s, vy = -23.7047 m/s\n"
     ]
    }
   ],
   "source": [
    "from vpython import sphere, vector, color, box, canvas, rate, radians, cos, sin, sqrt\n",
    "\n",
    "# Setup the scene globally\n",
    "scene = canvas(title='Projectile Motion Simulation',\n",
    "               width=1200, height=600,\n",
    "               center=vector(75, 25, 0),\n",
    "               background=color.white)\n",
    "ball = sphere(radius=1, color=color.blue, make_trail=True)\n",
    "ground = box(pos=vector(75, 0, 0), size=vector(300, 2, 10), color=color.green)\n",
    "\n",
    "# Constants\n",
    "dt = 0.0001  # Time step\n",
    "g = 9.8  # Acceleration due to gravity (m/s^2)\n",
    "running = True  # Start simulation immediately\n",
    "\n",
    "# Initial conditions for simulation\n",
    "v0 = 50  # Initial speed in m/s\n",
    "theta = 40  # Launch angle in degrees\n",
    "drag = 0.005  # Drag coefficient\n",
    "\n",
    "# Convert angle to radians for calculation\n",
    "theta_radians = radians(theta)\n",
    "\n",
    "# Calculate initial velocity components\n",
    "vx = v0 * cos(theta_radians)\n",
    "vy = v0 * sin(theta_radians)\n",
    "\n",
    "x, y = 0, 0  # Initial position of the projectile\n",
    "ball.pos = vector(x, y, 0)  # Set initial position of the ball\n",
    "\n",
    "def run_simulation():\n",
    "    global x, y, vx, vy, running\n",
    "    while running:\n",
    "        rate(1/dt)\n",
    "        # Calculate acceleration components\n",
    "        ax = -drag * vx * sqrt(vx**2 + vy**2)\n",
    "        ay = -g - drag * vy * sqrt(vx**2 + vy**2)\n",
    "\n",
    "        # Update velocities\n",
    "        vx += ax * dt\n",
    "        vy += ay * dt\n",
    "\n",
    "        # Update positions\n",
    "        x += vx * dt\n",
    "        y += vy * dt\n",
    "        ball.pos = vector(x, y, 0)\n",
    "\n",
    "        # Check if the projectile has hit the ground\n",
    "        if y < 0:\n",
    "            running = False\n",
    "            print(f\"Simulation complete. Landing position: x = {x:.4f} m, y = {y:.4f} m\")\n",
    "            print(f\"Final velocity: vx = {vx:.4f} m/s, vy = {vy:.4f} m/s\")\n",
    "\n",
    "# Start the simulation\n",
    "run_simulation()\n"
   ]
  },
  {
   "cell_type": "markdown",
   "metadata": {},
   "source": [
    "Congratulations---you're now finished with this project!  Please turn in the filled notebook file."
   ]
  },
  {
   "cell_type": "code",
   "execution_count": null,
   "metadata": {},
   "outputs": [],
   "source": []
  }
 ],
 "metadata": {
  "kernelspec": {
   "display_name": "Python 3 (ipykernel)",
   "language": "python",
   "name": "python3"
  },
  "language_info": {
   "codemirror_mode": {
    "name": "ipython",
    "version": 3
   },
   "file_extension": ".py",
   "mimetype": "text/x-python",
   "name": "python",
   "nbconvert_exporter": "python",
   "pygments_lexer": "ipython3",
   "version": "3.11.7"
  },
  "latex_metadata": {
   "affiliation": "Tel Aviv University",
   "author": "Yoel Shkkolnisky and Haim Avron",
   "title": "Workshop - Project 2: Projectile Motion"
  }
 },
 "nbformat": 4,
 "nbformat_minor": 4
}
